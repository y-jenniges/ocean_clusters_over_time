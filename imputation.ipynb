{
 "cells": [
  {
   "cell_type": "code",
   "execution_count": 1,
   "id": "600e2040-1f71-431f-abe6-706e2e1bc5b3",
   "metadata": {},
   "outputs": [
    {
     "name": "stderr",
     "output_type": "stream",
     "text": [
      "CACHEDIR=/albedo/home/yvjennig/.cache/matplotlib\n",
      "Using fontManager instance from /albedo/home/yvjennig/.cache/matplotlib/fontlist-v330.json\n"
     ]
    }
   ],
   "source": [
    "import pandas as pd\n",
    "import glob\n",
    "import numpy as np\n",
    "import sompy\n",
    "from sklearn.preprocessing import MinMaxScaler"
   ]
  },
  {
   "cell_type": "code",
   "execution_count": 2,
   "id": "e7e953e7-70d3-4a7d-8da1-ed4adc92872c",
   "metadata": {},
   "outputs": [
    {
     "name": "stdout",
     "output_type": "stream",
     "text": [
      "P_SILICATE\n",
      "P_OXYGEN\n",
      "P_PHOSPHATE\n",
      "P_NITRATE\n",
      "P_SALINITY\n",
      "P_TEMPERATURE\n"
     ]
    }
   ],
   "source": [
    "# load time gridded data\n",
    "tables = {}\n",
    "for filepath in glob.glob(\"data/P_*_time_gridded.csv\"):\n",
    "    param = filepath.lstrip(\"data/\").rstrip(\"_time_gridded.csv\")\n",
    "    print(param)\n",
    "    tables[param] = pd.read_csv(filepath)"
   ]
  },
  {
   "cell_type": "code",
   "execution_count": 3,
   "id": "d6ae8923-a869-48ec-9600-0bc5ff29e245",
   "metadata": {},
   "outputs": [],
   "source": [
    "# create wide table\n",
    "df_wide = tables[list(tables.keys())[0]]\n",
    "\n",
    "for param in list(tables.keys())[1:]:\n",
    "    df_wide = pd.merge(df_wide, tables[param], on=[\"LATITUDE\", \"LONGITUDE\", \"LEV_M\", \"DATEANDTIME\"], how=\"outer\")\n",
    "\n",
    "df_wide[\"DATEANDTIME\"] = pd.to_datetime(df_wide[\"DATEANDTIME\"])"
   ]
  },
  {
   "cell_type": "code",
   "execution_count": 4,
   "id": "6820cad6-02e7-4150-bb9c-288426c5b1ab",
   "metadata": {},
   "outputs": [
    {
     "data": {
      "text/plain": [
       "LATITUDE                float64\n",
       "LONGITUDE               float64\n",
       "LEV_M                   float64\n",
       "DATEANDTIME      datetime64[ns]\n",
       "P_SILICATE              float64\n",
       "P_OXYGEN                float64\n",
       "P_PHOSPHATE             float64\n",
       "P_NITRATE               float64\n",
       "P_SALINITY              float64\n",
       "P_TEMPERATURE           float64\n",
       "dtype: object"
      ]
     },
     "execution_count": 4,
     "metadata": {},
     "output_type": "execute_result"
    }
   ],
   "source": [
    "df_wide.dtypes"
   ]
  },
  {
   "cell_type": "code",
   "execution_count": 5,
   "id": "63f93f39-dcc0-47c1-be20-0ba7a6a64a3e",
   "metadata": {},
   "outputs": [
    {
     "data": {
      "text/plain": [
       "131496"
      ]
     },
     "execution_count": 5,
     "metadata": {},
     "output_type": "execute_result"
    }
   ],
   "source": [
    "len(df_wide)"
   ]
  },
  {
   "cell_type": "code",
   "execution_count": 6,
   "id": "382097e0-980f-4d95-9b07-1a9365a250e8",
   "metadata": {},
   "outputs": [],
   "source": [
    "# transform date (month to cyclic variable)\n",
    "df_wide[\"year\"] = (df_wide[\"DATEANDTIME\"] + pd.Timedelta(days=1)).dt.year.astype(int)\n",
    "# df_wide[\"month\"] = (df_wide[\"DATEANDTIME\"] + pd.Timedelta(days=1)).dt.month\n",
    "\n",
    "# months to cyclic\n",
    "# df_wide[\"month0\"] = np.sin(2*np.pi*df_wide[\"month\"]/12)\n",
    "# df_wide[\"month1\"] = np.cos(2*np.pi*df_wide[\"month\"]/12)\n",
    "\n",
    "# drop original datetime\n",
    "df_wide = df_wide.drop([\"DATEANDTIME\"], axis=1)"
   ]
  },
  {
   "cell_type": "code",
   "execution_count": 7,
   "id": "30271854-c458-47a1-935d-1ec94c3db61e",
   "metadata": {},
   "outputs": [
    {
     "data": {
      "text/plain": [
       "array([-50.5, -49.5, -48.5, -47.5, -46.5, -45.5, -44.5, -43.5, -42.5,\n",
       "       -41.5, -40.5, -39.5, -38.5, -37.5, -36.5, -35.5, -34.5, -33.5,\n",
       "       -32.5, -31.5, -30.5, -29.5, -28.5, -27.5, -26.5, -25.5, -24.5,\n",
       "       -23.5, -22.5, -21.5, -20.5, -19.5, -18.5, -17.5, -16.5, -15.5,\n",
       "       -14.5, -13.5, -12.5, -11.5, -10.5,  -9.5,  -8.5,  -7.5,  -6.5,\n",
       "        -5.5,  -4.5,  -3.5,  -2.5,  -1.5,  -0.5,   0.5,   1.5,   2.5,\n",
       "         3.5,   4.5,   5.5,   6.5,   7.5,   8.5,   9.5, -51.5, -52.5,\n",
       "       -57.5, -56.5, -55.5, -54.5, -53.5, -58.5, -59.5, -76.5, -71.5,\n",
       "       -60.5, -65.5, -64.5, -62.5, -61.5, -75.5, -74.5, -73.5, -70.5,\n",
       "       -68.5, -67.5, -66.5, -63.5, -72.5, -69.5,  27.5,  19.5,  16.5,\n",
       "        17.5,  18.5,  26.5,  28.5,  29.5,  15.5,  20.5,  23.5,  24.5,\n",
       "        25.5,  11.5,  12.5,  13.5,  14.5,  21.5,  22.5,  10.5])"
      ]
     },
     "execution_count": 7,
     "metadata": {},
     "output_type": "execute_result"
    }
   ],
   "source": [
    "df_wide[\"LONGITUDE\"].unique()"
   ]
  },
  {
   "cell_type": "code",
   "execution_count": null,
   "id": "6308df83-93df-4fd1-b6e6-d9b4bf982b06",
   "metadata": {},
   "outputs": [],
   "source": [
    "# transform longitude to cyclic variable\n",
    "df_wide[\"LONGITUDE0\"] = np.sin(2*np.pi*(180+df_wide[\"LONGITUDE\"])/360)\n",
    "df_wide[\"LONGITUDE1\"] = np.cos(2*np.pi*(180+df_wide[\"LONGITUDE\"])/360)\n",
    "\n",
    "df_wide = df_wide.drop(\"LONGITUDE\", axis=1)"
   ]
  },
  {
   "cell_type": "code",
   "execution_count": null,
   "id": "4485615b-e4df-4115-8ecb-ed32d579e29d",
   "metadata": {},
   "outputs": [],
   "source": []
  },
  {
   "cell_type": "code",
   "execution_count": null,
   "id": "7ae1ecf1-359b-4f54-a4f9-12f02012275a",
   "metadata": {
    "scrolled": true
   },
   "outputs": [],
   "source": [
    "# scale data\n",
    "scaler = MinMaxScaler() # StandardScaler()  MinMaxScaler  RobustScaler\n",
    "scaler.fit(df_wide)\n",
    "df_scaled = pd.DataFrame(scaler.transform(df_wide), columns=df_wide.columns)"
   ]
  },
  {
   "cell_type": "code",
   "execution_count": null,
   "id": "0dae08df-3963-4759-81c2-35a454d720e5",
   "metadata": {},
   "outputs": [],
   "source": [
    "# embed data not possible on nan values\n",
    "import umap\n",
    "# embedding = umap.UMAP(min_dist=0.0, n_components=3, n_neighbors=20).fit_transform(df_scaled)"
   ]
  },
  {
   "cell_type": "code",
   "execution_count": null,
   "id": "8f1a00f6-0be8-482d-9a7f-9c9bab0a3f9b",
   "metadata": {},
   "outputs": [],
   "source": [
    "fig = plt.figure()\n",
    "ax = fig.add_subplot(projection='3d')\n",
    "ax.scatter(embedding[:, 0], embedding[:, 1], embedding[:, 2], alpha=0.1, zorder=4, s=0.1)  # , s=s, alpha=1, zorder=4)\n",
    "plt.show(block=True)"
   ]
  },
  {
   "cell_type": "code",
   "execution_count": null,
   "id": "43216a91-218d-4dba-9dfb-93e22a462342",
   "metadata": {},
   "outputs": [],
   "source": [
    "len(df_scaled)"
   ]
  },
  {
   "cell_type": "code",
   "execution_count": null,
   "id": "cf43d96c-abef-44d5-aadf-b22441faf341",
   "metadata": {},
   "outputs": [],
   "source": [
    "len(df_scaled.dropna())"
   ]
  },
  {
   "cell_type": "code",
   "execution_count": null,
   "id": "3f4cd0f8-5274-404f-b9d6-5a6f3b688261",
   "metadata": {},
   "outputs": [],
   "source": [
    "# SOMPY imputation\n",
    "mapsize = [20, 20]\n",
    "\n",
    "som = sompy.SOMFactory.build(df_scaled,   # embedding df_scaled X\n",
    "                             mapsize=mapsize, \n",
    "                             mask=None, \n",
    "                             mapshape='planar', \n",
    "                             lattice='hexa', \n",
    "                             normalization=None, \n",
    "                             initialization='pca', \n",
    "                             neighborhood='gaussian', \n",
    "                             training='batch', \n",
    "                             name='sompy')\n",
    "\n",
    "som.train(n_job=1, verbose='info', \n",
    "          train_rough_len=60,\n",
    "          train_rough_radiusin=3,\n",
    "          train_rough_radiusfin=1,\n",
    "          train_finetune_len=150,\n",
    "          train_finetune_radiusin=1.3,\n",
    "          train_finetune_radiusfin=0.1,)  # verbose='debug' will print more, and verbose=None wont print anything\n",
    "\n",
    "# prediction\n",
    "bmus = som.find_bmu(df_scaled)#, njb=1, nth=1)#, metric='euclidean')\n",
    "x_pred_som = bmus[0, :]"
   ]
  },
  {
   "cell_type": "code",
   "execution_count": null,
   "id": "4936f1d7-cd6b-473a-ae4e-5029ae1c98cf",
   "metadata": {},
   "outputs": [],
   "source": [
    "# mean imputation\n",
    "from sklearn.impute import SimpleImputer\n",
    "\n",
    "# model training\n",
    "mean_imputer = SimpleImputer(missing_values=np.nan, strategy='mean')\n",
    "mean_imputer.fit(df_scaled)\n",
    "\n",
    "# prediction\n",
    "x_pred_mean = mean_imputer.transform(df_scaled)"
   ]
  },
  {
   "cell_type": "code",
   "execution_count": null,
   "id": "3b54bc78-21a8-48ab-9c69-c0403305ad4b",
   "metadata": {},
   "outputs": [],
   "source": [
    "# KNN imputation\n",
    "from sklearn.impute import KNNImputer\n",
    "\n",
    "# training\n",
    "knn_imputer = KNNImputer()  # n_neighbors=20, weights=\"distance\"\n",
    "knn_imputer.fit(df_scaled)\n",
    "\n",
    "# prediction\n",
    "x_pred_knn = pd.DataFrame(knn_imputer.transform(df_scaled), columns=df_scaled.columns)"
   ]
  },
  {
   "cell_type": "code",
   "execution_count": null,
   "id": "809afd2a-e99a-4987-98ae-01334e1d2a0d",
   "metadata": {},
   "outputs": [],
   "source": [
    "11:45 - 12:05"
   ]
  },
  {
   "cell_type": "code",
   "execution_count": null,
   "id": "dd9bc998-1d9e-4474-9263-c24b7ad136d3",
   "metadata": {},
   "outputs": [],
   "source": [
    "# implicit NN imputation"
   ]
  },
  {
   "cell_type": "code",
   "execution_count": null,
   "id": "bce5d6cd-2d0e-40a5-bdd5-468c1c58e472",
   "metadata": {},
   "outputs": [],
   "source": []
  },
  {
   "cell_type": "code",
   "execution_count": null,
   "id": "4271a9c8-4f41-43b3-b064-88b669db87f1",
   "metadata": {},
   "outputs": [],
   "source": [
    "# undo scaling\n",
    "df_out = pd.DataFrame(scaler.inverse_transform(x_pred_knn), columns=df_scaled.columns)"
   ]
  },
  {
   "cell_type": "code",
   "execution_count": null,
   "id": "2d63ab92-337b-4a6e-8cf7-2599e500de73",
   "metadata": {},
   "outputs": [],
   "source": [
    "a = df_out.drop([\"month\", \"month0\", \"month1\"], axis=1)\n",
    "a.to_csv(\"df_knn_3x20.csv\", index=False)"
   ]
  },
  {
   "cell_type": "code",
   "execution_count": null,
   "id": "bc1f846e-1145-4364-a7e9-5c021d6fa9f6",
   "metadata": {},
   "outputs": [],
   "source": []
  },
  {
   "cell_type": "code",
   "execution_count": null,
   "id": "e379774a-41fe-4a0f-947a-d372acbdf9d8",
   "metadata": {},
   "outputs": [],
   "source": []
  }
 ],
 "metadata": {
  "kernelspec": {
   "display_name": "Python 3 (ipykernel)",
   "language": "python",
   "name": "python3"
  },
  "language_info": {
   "codemirror_mode": {
    "name": "ipython",
    "version": 3
   },
   "file_extension": ".py",
   "mimetype": "text/x-python",
   "name": "python",
   "nbconvert_exporter": "python",
   "pygments_lexer": "ipython3",
   "version": "3.10.12"
  }
 },
 "nbformat": 4,
 "nbformat_minor": 5
}
