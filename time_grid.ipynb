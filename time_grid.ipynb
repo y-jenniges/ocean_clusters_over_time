{
 "cells": [
  {
   "cell_type": "code",
   "execution_count": 8,
   "id": "f56caa38-003b-4462-bf7f-e285ee3b81dd",
   "metadata": {},
   "outputs": [],
   "source": [
    "import pandas as pd\n",
    "import numpy as np\n",
    "import sqlite3"
   ]
  },
  {
   "cell_type": "code",
   "execution_count": null,
   "id": "fae0abf6-a497-44b6-b2c2-42bf86399da1",
   "metadata": {},
   "outputs": [],
   "source": []
  },
  {
   "cell_type": "markdown",
   "id": "afcfd6bf-9051-4964-b2f9-1f168863abd5",
   "metadata": {},
   "source": [
    "## Config"
   ]
  },
  {
   "cell_type": "code",
   "execution_count": 4,
   "id": "6eca4241-b392-45c1-8b16-a912584abfa2",
   "metadata": {},
   "outputs": [],
   "source": [
    "# grid configuration over all times\n",
    "depth_levels = [0, 50, 100, 200, 300, 400, 500, 1000, 1500, 2000, 3000, 4000, 5000]\n",
    "grid_config = {\"param_tables\": [\"P_TEMPERATURE\", \"P_SALINITY\", \"P_OXYGEN\", \"P_NITRATE\", \"P_SILICATE\", \"P_PHOSPHATE\"],\n",
    "               \"lat_min\": 0,\n",
    "               \"lat_max\": 70,\n",
    "               \"dlat\": 1,\n",
    "               \"lon_min\": -77,\n",
    "               \"lon_max\": 30,\n",
    "               \"dlon\": 1,\n",
    "               \"z_min\": None,\n",
    "               \"z_max\": None,\n",
    "               \"dz\": None,\n",
    "               \"z_array\": np.array(depth_levels),\n",
    "               \"time_min\": \"1772-01-01 00:00:00\",\n",
    "               \"time_max\": \"2020-07-08 04:45:00\",\n",
    "               \"mode\": \"Y\",\n",
    "               \"selection\": None,\n",
    "               \"dtime\": 300,\n",
    "               \"note\": \"northern Atlantic, all times, larger depth steps, more params, exclude Pacific\"\n",
    "             }\n",
    "\n",
    "param_tables = grid_config[\"param_tables\"]\n",
    "lat_min = grid_config[\"lat_min\"]\n",
    "lat_max = grid_config[\"lat_max\"]\n",
    "dlat = grid_config[\"dlat\"]\n",
    "lon_min = grid_config[\"lon_min\"]\n",
    "lon_max = grid_config[\"lon_max\"]\n",
    "dlon = grid_config[\"dlon\"]\n",
    "z_min = grid_config[\"z_min\"]\n",
    "z_max = grid_config[\"z_max\"]\n",
    "dz = grid_config[\"dz\"]\n",
    "z_array = np.array(grid_config[\"z_array\"])\n",
    "time_min = grid_config[\"time_min\"]\n",
    "time_max = grid_config[\"time_max\"]\n",
    "mode = grid_config[\"mode\"]\n",
    "selection = grid_config[\"selection\"]\n",
    "dtime = grid_config[\"dtime\"]"
   ]
  },
  {
   "cell_type": "code",
   "execution_count": 9,
   "id": "26957020-433d-4a5c-b4c7-49f848c45cd0",
   "metadata": {},
   "outputs": [],
   "source": [
    "# database connection\n",
    "db_path = \"../missing_value_imputation/data/6_comfort_potT.sqlite\"\n",
    "conn = sqlite3.connect(db_path)"
   ]
  },
  {
   "cell_type": "code",
   "execution_count": 11,
   "id": "e1b1caab-80bc-4bd2-9eb9-6d911a6d648c",
   "metadata": {},
   "outputs": [],
   "source": [
    "# define bathymetry parameters\n",
    "bathymetry_grid_path = \"../missing_value_imputation/data/bathymetry/gebco_2022_sub_ice_topo/gebco_2022_sub_ice_topo.nc\"\n",
    "lat_variable = \"lat\"\n",
    "lon_variable = \"lon\"\n",
    "depth_variable = \"elevation\""
   ]
  },
  {
   "cell_type": "markdown",
   "id": "f67a06eb-56e5-4bb1-8f75-a7a96593c777",
   "metadata": {},
   "source": [
    "## Get spatially mapped data"
   ]
  },
  {
   "cell_type": "code",
   "execution_count": 12,
   "id": "1f950d2f-15a3-4924-b826-e1600219c157",
   "metadata": {},
   "outputs": [],
   "source": [
    "include_z_max = True\n",
    "z_eq = \"<=\" if include_z_max else \"<\"\n",
    "z_min = min(z_array)\n",
    "z_max = max(z_array)\n",
    "\n",
    "def load_param_table(connection, table):\n",
    "    q = f\"select LATITUDE, LONGITUDE, LEV_M, DATEANDTIME, VAL \" \\\n",
    "    f\"from {table} where \" \\\n",
    "    f\"LATITUDE >= {lat_min} and LATITUDE <= {lat_max} and \" \\\n",
    "    f\"LONGITUDE >= {lon_min} and LONGITUDE <= {lon_max} and \" \\\n",
    "    f\"LEV_M >= {z_min} and LEV_M {z_eq} {z_max} and \" \\\n",
    "    f\"DATEANDTIME >= '{time_min}' and DATEANDTIME <= '{time_max}' \" \\\n",
    "    f\";\"\n",
    "    print(q)   \n",
    "    cur = connection.execute(q)\n",
    "    temp = pd.DataFrame(cur.fetchall(), columns=[x[0] for x in cur.description])\n",
    "\n",
    "    temp[\"DATEANDTIME\"] = pd.to_datetime(temp[\"DATEANDTIME\"]).dt.strftime(\"%Y-%m-%d %H:%M:%S\")\n",
    "    return temp"
   ]
  },
  {
   "cell_type": "code",
   "execution_count": 14,
   "id": "9d1a3c55-5ca8-4378-a30a-36b817e6c24d",
   "metadata": {},
   "outputs": [
    {
     "name": "stdout",
     "output_type": "stream",
     "text": [
      "select LATITUDE, LONGITUDE, LEV_M, DATEANDTIME, VAL from P_NITRATE where LATITUDE >= 0 and LATITUDE <= 70 and LONGITUDE >= -77 and LONGITUDE <= 30 and LEV_M >= 0 and LEV_M <= 5000 and DATEANDTIME >= '1772-01-01 00:00:00' and DATEANDTIME <= '2020-07-08 04:45:00' ;\n",
      "select LATITUDE, LONGITUDE, LEV_M, DATEANDTIME, VAL from P_SILICATE where LATITUDE >= 0 and LATITUDE <= 70 and LONGITUDE >= -77 and LONGITUDE <= 30 and LEV_M >= 0 and LEV_M <= 5000 and DATEANDTIME >= '1772-01-01 00:00:00' and DATEANDTIME <= '2020-07-08 04:45:00' ;\n",
      "select LATITUDE, LONGITUDE, LEV_M, DATEANDTIME, VAL from P_PHOSPHATE where LATITUDE >= 0 and LATITUDE <= 70 and LONGITUDE >= -77 and LONGITUDE <= 30 and LEV_M >= 0 and LEV_M <= 5000 and DATEANDTIME >= '1772-01-01 00:00:00' and DATEANDTIME <= '2020-07-08 04:45:00' ;\n",
      "select LATITUDE, LONGITUDE, LEV_M, DATEANDTIME, VAL from P_TEMPERATURE where LATITUDE >= 0 and LATITUDE <= 70 and LONGITUDE >= -77 and LONGITUDE <= 30 and LEV_M >= 0 and LEV_M <= 5000 and DATEANDTIME >= '1772-01-01 00:00:00' and DATEANDTIME <= '2020-07-08 04:45:00' ;\n",
      "select LATITUDE, LONGITUDE, LEV_M, DATEANDTIME, VAL from P_SALINITY where LATITUDE >= 0 and LATITUDE <= 70 and LONGITUDE >= -77 and LONGITUDE <= 30 and LEV_M >= 0 and LEV_M <= 5000 and DATEANDTIME >= '1772-01-01 00:00:00' and DATEANDTIME <= '2020-07-08 04:45:00' ;\n",
      "select LATITUDE, LONGITUDE, LEV_M, DATEANDTIME, VAL from P_OXYGEN where LATITUDE >= 0 and LATITUDE <= 70 and LONGITUDE >= -77 and LONGITUDE <= 30 and LEV_M >= 0 and LEV_M <= 5000 and DATEANDTIME >= '1772-01-01 00:00:00' and DATEANDTIME <= '2020-07-08 04:45:00' ;\n"
     ]
    }
   ],
   "source": [
    "# load data tables from database\n",
    "nitrate = load_param_table(conn, \"P_NITRATE\")\n",
    "silicate = load_param_table(conn, \"P_SILICATE\")\n",
    "phosphate = load_param_table(conn, \"P_PHOSPHATE\")\n",
    "temperature = load_param_table(conn, \"P_TEMPERATURE\")\n",
    "salinity = load_param_table(conn, \"P_SALINITY\")\n",
    "oxygen = load_param_table(conn, \"P_OXYGEN\")"
   ]
  },
  {
   "cell_type": "code",
   "execution_count": 17,
   "id": "5d7fdca9-2a67-46d8-8033-f2e8a9c5e91b",
   "metadata": {},
   "outputs": [],
   "source": [
    "# store the filtered data\n",
    "nitrate.to_csv(\"data/P_NITRATE_filtered.csv\", index=False)\n",
    "silicate.to_csv(\"data/P_SILICATE_filtered.csv\", index=False)\n",
    "phosphate.to_csv(\"data/P_PHOSPHATE_filtered.csv\", index=False)\n",
    "temperature.to_csv(\"data/P_TEMPERATURE_filtered.csv\", index=False)\n",
    "salinity.to_csv(\"data/P_SALINITY_filtered.csv\", index=False)\n",
    "oxygen.to_csv(\"data/P_OXYGEN_filtered.csv\", index=False)"
   ]
  },
  {
   "cell_type": "code",
   "execution_count": null,
   "id": "ffd35060-2c84-4b0e-a9b1-b80205998b62",
   "metadata": {},
   "outputs": [],
   "source": [
    "# load data tables from csv files\n",
    "nitrate = pd.read_csv(\"data/P_NITRATE_filtered.csv\")\n",
    "silicate = pd.read_csv(\"data/P_SILICATE_filtered.csv\")\n",
    "phosphate = pd.read_csv(\"data/P_PHOSPHATE_filtered.csv\")\n",
    "temperature = pd.read_csv(\"data/P_TEMPERATURE_filtered.csv\")\n",
    "salinity = pd.read_csv(\"data/P_SALINITY_filtered.csv\")\n",
    "oxygen = pd.read_csv(\"data/P_OXYGEN_filtered.csv\")"
   ]
  },
  {
   "cell_type": "code",
   "execution_count": null,
   "id": "e5aa8197-c1f7-4d96-911a-0bd8f1824394",
   "metadata": {},
   "outputs": [],
   "source": []
  },
  {
   "cell_type": "code",
   "execution_count": null,
   "id": "01bc4c1f-b6ee-475a-bd22-2a632e4879ed",
   "metadata": {},
   "outputs": [],
   "source": []
  },
  {
   "cell_type": "code",
   "execution_count": null,
   "id": "ec4efab8-ea3c-4853-b95b-cdaa28e15cd8",
   "metadata": {},
   "outputs": [],
   "source": []
  },
  {
   "cell_type": "code",
   "execution_count": null,
   "id": "6f176bfc-33e2-425a-b711-9d92d27bb91c",
   "metadata": {},
   "outputs": [],
   "source": []
  },
  {
   "cell_type": "markdown",
   "id": "239d571d-3618-4fd9-994e-e85488b57313",
   "metadata": {},
   "source": [
    "## Examine temporal data density"
   ]
  },
  {
   "cell_type": "code",
   "execution_count": 19,
   "id": "28fcc445-407d-4f0c-952f-4c31cf8c3e53",
   "metadata": {},
   "outputs": [],
   "source": [
    "time_bins = pd.date_range(time_min, time_max, freq=\"D\")\n",
    "\n",
    "def plot_monthly_avg_over_time(tables, plot_titles, measure=\"mean\", d_or_m=\"m\"):  \n",
    "    aggregated_tables = []\n",
    "    for table in tables:\n",
    "        # drop nan values\n",
    "        table = table.dropna()\n",
    "\n",
    "        # drop land values\n",
    "        table = table.drop(table[~table[\"water\"]].index)\n",
    "        \n",
    "        # binning\n",
    "        table[\"DATEANDTIME_dbinned\"] = pd.cut(pd.to_datetime(table[\"DATEANDTIME\"], format=\"%Y-%m-%d %H:%M:%S\"), bins=time_bins, right=False, labels=time_bins[:-1])\n",
    "        table[\"DATEANDTIME_mbinned\"] = table[\"DATEANDTIME_dbinned\"].dt.month\n",
    "        table[\"DATEANDTIME_ybinned\"] = table[\"DATEANDTIME_dbinned\"].dt.year.astype(int)\n",
    "\n",
    "        # binning and averaging\n",
    "        if d_or_m == \"d\": \n",
    "            col = \"DATEANDTIME_dbinned\"\n",
    "            agg_temp = table.drop([\"DATEANDTIME\", \"DATEANDTIME_mbinned\", \"DATEANDTIME_ybinned\"], axis=1).groupby([\"DATEANDTIME_dbinned\"], observed=False).agg(measure).reset_index()  # mean over time\n",
    "            thresh = agg_temp[\"VAL\"].mean() + agg_temp[\"VAL\"].std()\n",
    "            agg_temp = agg_temp[agg_temp[\"VAL\"] <= thresh]\n",
    "            scatter_size = 0.01\n",
    "            figsize = (20, 1.5*len(tables))\n",
    "            smoothing=24\n",
    "        elif d_or_m == \"m\":\n",
    "            col = \"DATEANDTIME_mbinned\"\n",
    "            agg_temp = table.drop([\"DATEANDTIME\", \"DATEANDTIME_dbinned\", \"DATEANDTIME_ybinned\"], axis=1).groupby([\"DATEANDTIME_mbinned\"], observed=False).agg(measure).reset_index()\n",
    "            scatter_size = 30\n",
    "            figsize = (6, 1.2*len(tables))\n",
    "            smoothing=1\n",
    "        elif d_or_m == \"y\":\n",
    "            col = \"DATEANDTIME_ybinned\"\n",
    "            agg_temp = table.drop([\"DATEANDTIME\", \"DATEANDTIME_dbinned\", \"DATEANDTIME_mbinned\"], axis=1).groupby([\"DATEANDTIME_ybinned\"], observed=False).agg(measure).reset_index()\n",
    "            agg_temp[\"DATEANDTIME_ybinned\"] = agg_temp[\"DATEANDTIME_ybinned\"].astype(int)\n",
    "            scatter_size = 10\n",
    "            figsize = (10, 1.5*len(tables))\n",
    "            smoothing=1\n",
    "        aggregated_tables.append(agg_temp)\n",
    "        \n",
    "    # plot\n",
    "    fig, axs = plt.subplots(ncols=1, nrows=len(tables), sharex=True, figsize=figsize)\n",
    "    \n",
    "    for i in range(len(tables)):\n",
    "        t = aggregated_tables[i]\n",
    "        if d_or_m == \"m\":  # or measure == \"count\": \n",
    "            t[col] = pd.to_datetime(t[col])\n",
    "            #sns.lineplot(data=t,x= col, y=\"VAL\", ax=axs[i])\n",
    "            axs[i].plot(col, \"VAL\", data=t)\n",
    "        t[\"smooth\"] = gaussian_filter1d(t[\"VAL\"], sigma=smoothing)\n",
    "        axs[i].plot(col, \"smooth\", data=t, c=\"black\")\n",
    "        axs[i].scatter(col, \"VAL\", data=t, s=scatter_size)\n",
    "        axs[i].set_title(plot_titles[i])\n",
    "    \n",
    "    plt.ylabel(measure.capitalize())\n",
    "    plt.xlabel(\"Time\")\n",
    "    plt.tight_layout()\n",
    "    plt.show()"
   ]
  },
  {
   "cell_type": "markdown",
   "id": "7b5d1301-c4a4-4bc3-8013-bb687a87d123",
   "metadata": {},
   "source": [
    "### Monthly"
   ]
  },
  {
   "cell_type": "code",
   "execution_count": 20,
   "id": "b6219ccc-d963-4c41-8eb5-4d64bfa49b66",
   "metadata": {
    "scrolled": true
   },
   "outputs": [
    {
     "ename": "KeyError",
     "evalue": "'water'",
     "output_type": "error",
     "traceback": [
      "\u001b[0;31m---------------------------------------------------------------------------\u001b[0m",
      "\u001b[0;31mKeyError\u001b[0m                                  Traceback (most recent call last)",
      "File \u001b[0;32m~/.conda/envs/imputation/lib/python3.11/site-packages/pandas/core/indexes/base.py:3790\u001b[0m, in \u001b[0;36mIndex.get_loc\u001b[0;34m(self, key)\u001b[0m\n\u001b[1;32m   3789\u001b[0m \u001b[38;5;28;01mtry\u001b[39;00m:\n\u001b[0;32m-> 3790\u001b[0m     \u001b[38;5;28;01mreturn\u001b[39;00m \u001b[38;5;28;43mself\u001b[39;49m\u001b[38;5;241;43m.\u001b[39;49m\u001b[43m_engine\u001b[49m\u001b[38;5;241;43m.\u001b[39;49m\u001b[43mget_loc\u001b[49m\u001b[43m(\u001b[49m\u001b[43mcasted_key\u001b[49m\u001b[43m)\u001b[49m\n\u001b[1;32m   3791\u001b[0m \u001b[38;5;28;01mexcept\u001b[39;00m \u001b[38;5;167;01mKeyError\u001b[39;00m \u001b[38;5;28;01mas\u001b[39;00m err:\n",
      "File \u001b[0;32mindex.pyx:152\u001b[0m, in \u001b[0;36mpandas._libs.index.IndexEngine.get_loc\u001b[0;34m()\u001b[0m\n",
      "File \u001b[0;32mindex.pyx:181\u001b[0m, in \u001b[0;36mpandas._libs.index.IndexEngine.get_loc\u001b[0;34m()\u001b[0m\n",
      "File \u001b[0;32mpandas/_libs/hashtable_class_helper.pxi:7080\u001b[0m, in \u001b[0;36mpandas._libs.hashtable.PyObjectHashTable.get_item\u001b[0;34m()\u001b[0m\n",
      "File \u001b[0;32mpandas/_libs/hashtable_class_helper.pxi:7088\u001b[0m, in \u001b[0;36mpandas._libs.hashtable.PyObjectHashTable.get_item\u001b[0;34m()\u001b[0m\n",
      "\u001b[0;31mKeyError\u001b[0m: 'water'",
      "\nThe above exception was the direct cause of the following exception:\n",
      "\u001b[0;31mKeyError\u001b[0m                                  Traceback (most recent call last)",
      "Cell \u001b[0;32mIn[20], line 1\u001b[0m\n\u001b[0;32m----> 1\u001b[0m \u001b[43mplot_monthly_avg_over_time\u001b[49m\u001b[43m(\u001b[49m\u001b[43m[\u001b[49m\u001b[43mtemperature\u001b[49m\u001b[43m,\u001b[49m\u001b[43m \u001b[49m\u001b[43msalinity\u001b[49m\u001b[43m,\u001b[49m\u001b[43m \u001b[49m\u001b[43moxygen\u001b[49m\u001b[43m,\u001b[49m\u001b[43m \u001b[49m\u001b[43mnitrate\u001b[49m\u001b[43m,\u001b[49m\u001b[43m \u001b[49m\u001b[43msilicate\u001b[49m\u001b[43m,\u001b[49m\u001b[43m \u001b[49m\u001b[43mphosphate\u001b[49m\u001b[43m]\u001b[49m\u001b[43m,\u001b[49m\u001b[43m \u001b[49m\u001b[43mmeasure\u001b[49m\u001b[38;5;241;43m=\u001b[39;49m\u001b[38;5;124;43m\"\u001b[39;49m\u001b[38;5;124;43mmean\u001b[39;49m\u001b[38;5;124;43m\"\u001b[39;49m\u001b[43m,\u001b[49m\u001b[43m \u001b[49m\u001b[43md_or_m\u001b[49m\u001b[38;5;241;43m=\u001b[39;49m\u001b[38;5;124;43m\"\u001b[39;49m\u001b[38;5;124;43mm\u001b[39;49m\u001b[38;5;124;43m\"\u001b[39;49m\u001b[43m,\u001b[49m\u001b[43m \u001b[49m\n\u001b[1;32m      2\u001b[0m \u001b[43m                           \u001b[49m\u001b[43mplot_titles\u001b[49m\u001b[38;5;241;43m=\u001b[39;49m\u001b[43m[\u001b[49m\u001b[38;5;124;43m\"\u001b[39;49m\u001b[38;5;124;43mTemperature [°C]\u001b[39;49m\u001b[38;5;124;43m\"\u001b[39;49m\u001b[43m,\u001b[49m\u001b[43m \u001b[49m\u001b[38;5;124;43m\"\u001b[39;49m\u001b[38;5;124;43mSalinity [psu]\u001b[39;49m\u001b[38;5;124;43m\"\u001b[39;49m\u001b[43m,\u001b[49m\u001b[43m \u001b[49m\u001b[38;5;124;43m\"\u001b[39;49m\u001b[38;5;124;43mOxygen [µmol·kg-1]\u001b[39;49m\u001b[38;5;124;43m\"\u001b[39;49m\u001b[43m,\u001b[49m\u001b[43m \u001b[49m\n\u001b[1;32m      3\u001b[0m \u001b[43m                                        \u001b[49m\u001b[38;5;124;43m\"\u001b[39;49m\u001b[38;5;124;43mNitrate [µmol·kg-1]\u001b[39;49m\u001b[38;5;124;43m\"\u001b[39;49m\u001b[43m,\u001b[49m\u001b[43m \u001b[49m\u001b[38;5;124;43m\"\u001b[39;49m\u001b[38;5;124;43mSilicate [µmol·kg-1]\u001b[39;49m\u001b[38;5;124;43m\"\u001b[39;49m\u001b[43m,\u001b[49m\u001b[43m \u001b[49m\u001b[38;5;124;43m\"\u001b[39;49m\u001b[38;5;124;43mPhosphate [µmol·kg-1]\u001b[39;49m\u001b[38;5;124;43m\"\u001b[39;49m\u001b[43m]\u001b[49m\u001b[43m)\u001b[49m\n",
      "Cell \u001b[0;32mIn[19], line 10\u001b[0m, in \u001b[0;36mplot_monthly_avg_over_time\u001b[0;34m(tables, plot_titles, measure, d_or_m)\u001b[0m\n\u001b[1;32m      7\u001b[0m table \u001b[38;5;241m=\u001b[39m table\u001b[38;5;241m.\u001b[39mdropna()\n\u001b[1;32m      9\u001b[0m \u001b[38;5;66;03m# drop land values\u001b[39;00m\n\u001b[0;32m---> 10\u001b[0m table \u001b[38;5;241m=\u001b[39m table\u001b[38;5;241m.\u001b[39mdrop(table[\u001b[38;5;241m~\u001b[39m\u001b[43mtable\u001b[49m\u001b[43m[\u001b[49m\u001b[38;5;124;43m\"\u001b[39;49m\u001b[38;5;124;43mwater\u001b[39;49m\u001b[38;5;124;43m\"\u001b[39;49m\u001b[43m]\u001b[49m]\u001b[38;5;241m.\u001b[39mindex)\n\u001b[1;32m     12\u001b[0m \u001b[38;5;66;03m# binning\u001b[39;00m\n\u001b[1;32m     13\u001b[0m table[\u001b[38;5;124m\"\u001b[39m\u001b[38;5;124mDATEANDTIME_dbinned\u001b[39m\u001b[38;5;124m\"\u001b[39m] \u001b[38;5;241m=\u001b[39m pd\u001b[38;5;241m.\u001b[39mcut(pd\u001b[38;5;241m.\u001b[39mto_datetime(table[\u001b[38;5;124m\"\u001b[39m\u001b[38;5;124mDATEANDTIME\u001b[39m\u001b[38;5;124m\"\u001b[39m], \u001b[38;5;28mformat\u001b[39m\u001b[38;5;241m=\u001b[39m\u001b[38;5;124m\"\u001b[39m\u001b[38;5;124m%\u001b[39m\u001b[38;5;124mY-\u001b[39m\u001b[38;5;124m%\u001b[39m\u001b[38;5;124mm-\u001b[39m\u001b[38;5;132;01m%d\u001b[39;00m\u001b[38;5;124m \u001b[39m\u001b[38;5;124m%\u001b[39m\u001b[38;5;124mH:\u001b[39m\u001b[38;5;124m%\u001b[39m\u001b[38;5;124mM:\u001b[39m\u001b[38;5;124m%\u001b[39m\u001b[38;5;124mS\u001b[39m\u001b[38;5;124m\"\u001b[39m), bins\u001b[38;5;241m=\u001b[39mtime_bins, right\u001b[38;5;241m=\u001b[39m\u001b[38;5;28;01mFalse\u001b[39;00m, labels\u001b[38;5;241m=\u001b[39mtime_bins[:\u001b[38;5;241m-\u001b[39m\u001b[38;5;241m1\u001b[39m])\n",
      "File \u001b[0;32m~/.conda/envs/imputation/lib/python3.11/site-packages/pandas/core/frame.py:3896\u001b[0m, in \u001b[0;36mDataFrame.__getitem__\u001b[0;34m(self, key)\u001b[0m\n\u001b[1;32m   3894\u001b[0m \u001b[38;5;28;01mif\u001b[39;00m \u001b[38;5;28mself\u001b[39m\u001b[38;5;241m.\u001b[39mcolumns\u001b[38;5;241m.\u001b[39mnlevels \u001b[38;5;241m>\u001b[39m \u001b[38;5;241m1\u001b[39m:\n\u001b[1;32m   3895\u001b[0m     \u001b[38;5;28;01mreturn\u001b[39;00m \u001b[38;5;28mself\u001b[39m\u001b[38;5;241m.\u001b[39m_getitem_multilevel(key)\n\u001b[0;32m-> 3896\u001b[0m indexer \u001b[38;5;241m=\u001b[39m \u001b[38;5;28;43mself\u001b[39;49m\u001b[38;5;241;43m.\u001b[39;49m\u001b[43mcolumns\u001b[49m\u001b[38;5;241;43m.\u001b[39;49m\u001b[43mget_loc\u001b[49m\u001b[43m(\u001b[49m\u001b[43mkey\u001b[49m\u001b[43m)\u001b[49m\n\u001b[1;32m   3897\u001b[0m \u001b[38;5;28;01mif\u001b[39;00m is_integer(indexer):\n\u001b[1;32m   3898\u001b[0m     indexer \u001b[38;5;241m=\u001b[39m [indexer]\n",
      "File \u001b[0;32m~/.conda/envs/imputation/lib/python3.11/site-packages/pandas/core/indexes/base.py:3797\u001b[0m, in \u001b[0;36mIndex.get_loc\u001b[0;34m(self, key)\u001b[0m\n\u001b[1;32m   3792\u001b[0m     \u001b[38;5;28;01mif\u001b[39;00m \u001b[38;5;28misinstance\u001b[39m(casted_key, \u001b[38;5;28mslice\u001b[39m) \u001b[38;5;129;01mor\u001b[39;00m (\n\u001b[1;32m   3793\u001b[0m         \u001b[38;5;28misinstance\u001b[39m(casted_key, abc\u001b[38;5;241m.\u001b[39mIterable)\n\u001b[1;32m   3794\u001b[0m         \u001b[38;5;129;01mand\u001b[39;00m \u001b[38;5;28many\u001b[39m(\u001b[38;5;28misinstance\u001b[39m(x, \u001b[38;5;28mslice\u001b[39m) \u001b[38;5;28;01mfor\u001b[39;00m x \u001b[38;5;129;01min\u001b[39;00m casted_key)\n\u001b[1;32m   3795\u001b[0m     ):\n\u001b[1;32m   3796\u001b[0m         \u001b[38;5;28;01mraise\u001b[39;00m InvalidIndexError(key)\n\u001b[0;32m-> 3797\u001b[0m     \u001b[38;5;28;01mraise\u001b[39;00m \u001b[38;5;167;01mKeyError\u001b[39;00m(key) \u001b[38;5;28;01mfrom\u001b[39;00m \u001b[38;5;21;01merr\u001b[39;00m\n\u001b[1;32m   3798\u001b[0m \u001b[38;5;28;01mexcept\u001b[39;00m \u001b[38;5;167;01mTypeError\u001b[39;00m:\n\u001b[1;32m   3799\u001b[0m     \u001b[38;5;66;03m# If we have a listlike key, _check_indexing_error will raise\u001b[39;00m\n\u001b[1;32m   3800\u001b[0m     \u001b[38;5;66;03m#  InvalidIndexError. Otherwise we fall through and re-raise\u001b[39;00m\n\u001b[1;32m   3801\u001b[0m     \u001b[38;5;66;03m#  the TypeError.\u001b[39;00m\n\u001b[1;32m   3802\u001b[0m     \u001b[38;5;28mself\u001b[39m\u001b[38;5;241m.\u001b[39m_check_indexing_error(key)\n",
      "\u001b[0;31mKeyError\u001b[0m: 'water'"
     ]
    }
   ],
   "source": [
    "plot_monthly_avg_over_time([temperature, salinity, oxygen, nitrate, silicate, phosphate], measure=\"mean\", d_or_m=\"m\", \n",
    "                           plot_titles=[\"Temperature [°C]\", \"Salinity [psu]\", \"Oxygen [µmol·kg-1]\", \n",
    "                                        \"Nitrate [µmol·kg-1]\", \"Silicate [µmol·kg-1]\", \"Phosphate [µmol·kg-1]\"])"
   ]
  },
  {
   "cell_type": "code",
   "execution_count": null,
   "id": "ab26de3d-6fbe-4177-b881-fd9d156a769a",
   "metadata": {},
   "outputs": [],
   "source": [
    "plot_monthly_avg_over_time([temperature, salinity, oxygen, nitrate, silicate, phosphate], measure=\"count\",\n",
    "                           plot_titles=[\"Temperature [°C]\", \"Salinity [psu]\", \"Oxygen [µmol·kg-1]\", \n",
    "                                        \"Nitrate [µmol·kg-1]\", \"Silicate [µmol·kg-1]\", \"Phosphate [µmol·kg-1]\"])"
   ]
  },
  {
   "cell_type": "markdown",
   "id": "5c09835a-c8f0-4dc2-80f6-a5a52b2127a4",
   "metadata": {},
   "source": [
    "### Daily"
   ]
  },
  {
   "cell_type": "code",
   "execution_count": null,
   "id": "4479cd02-2bdb-4261-9a98-afe445ed1613",
   "metadata": {},
   "outputs": [],
   "source": [
    "plot_monthly_avg_over_time([temperature, salinity, oxygen, nitrate, silicate, phosphate], measure=\"mean\", d_or_m=\"d\", \n",
    "                           plot_titles=[\"Temperature [°C]\", \"Salinity [psu]\", \"Oxygen [µmol·kg-1]\", \n",
    "                                        \"Nitrate [µmol·kg-1]\", \"Silicate [µmol·kg-1]\", \"Phosphate [µmol·kg-1]\"])"
   ]
  },
  {
   "cell_type": "code",
   "execution_count": null,
   "id": "0ba496e4-a692-4da8-8036-07459e7f1de0",
   "metadata": {},
   "outputs": [],
   "source": [
    "plot_monthly_avg_over_time([temperature, salinity, oxygen, nitrate, silicate, phosphate], measure=\"count\", d_or_m=\"d\", \n",
    "                           plot_titles=[\"Temperature [°C]\", \"Salinity [psu]\", \"Oxygen [µmol·kg-1]\", \n",
    "                                        \"Nitrate [µmol·kg-1]\", \"Silicate [µmol·kg-1]\", \"Phosphate [µmol·kg-1]\"])"
   ]
  },
  {
   "cell_type": "markdown",
   "id": "ba4822ba-6257-415d-bf7e-8f38f50df6ce",
   "metadata": {},
   "source": [
    "### Yearly"
   ]
  },
  {
   "cell_type": "code",
   "execution_count": null,
   "id": "82d656cc-48bd-4210-b0d3-22981b045d74",
   "metadata": {},
   "outputs": [],
   "source": [
    "plot_monthly_avg_over_time([temperature, salinity, oxygen, nitrate, silicate, phosphate], measure=\"mean\", d_or_m=\"y\", \n",
    "                           plot_titles=[\"Temperature [°C]\", \"Salinity [psu]\", \"Oxygen [µmol·kg-1]\", \n",
    "                                        \"Nitrate [µmol·kg-1]\", \"Silicate [µmol·kg-1]\", \"Phosphate [µmol·kg-1]\"])"
   ]
  },
  {
   "cell_type": "code",
   "execution_count": null,
   "id": "a82b6315-94b1-4aef-a72e-6c5781bfc183",
   "metadata": {},
   "outputs": [],
   "source": [
    "plot_monthly_avg_over_time([temperature, salinity, oxygen, nitrate, silicate, phosphate], measure=\"count\", d_or_m=\"y\", \n",
    "                           plot_titles=[\"Temperature [°C]\", \"Salinity [psu]\", \"Oxygen [µmol·kg-1]\", \n",
    "                                        \"Nitrate [µmol·kg-1]\", \"Silicate [µmol·kg-1]\", \"Phosphate [µmol·kg-1]\"])"
   ]
  },
  {
   "cell_type": "markdown",
   "id": "fd30835e-71ac-4cdf-a539-2cfa8f991664",
   "metadata": {},
   "source": [
    "# 1985-1989 analysis"
   ]
  },
  {
   "cell_type": "code",
   "execution_count": null,
   "id": "3b41b108-0f23-4a28-a458-3c6bb8b78191",
   "metadata": {},
   "outputs": [],
   "source": []
  },
  {
   "cell_type": "code",
   "execution_count": null,
   "id": "84659419-b411-427a-99d2-2ebbe01ff76f",
   "metadata": {},
   "outputs": [],
   "source": []
  }
 ],
 "metadata": {
  "kernelspec": {
   "display_name": "Python 3 (ipykernel)",
   "language": "python",
   "name": "python3"
  },
  "language_info": {
   "codemirror_mode": {
    "name": "ipython",
    "version": 3
   },
   "file_extension": ".py",
   "mimetype": "text/x-python",
   "name": "python",
   "nbconvert_exporter": "python",
   "pygments_lexer": "ipython3",
   "version": "3.11.5"
  }
 },
 "nbformat": 4,
 "nbformat_minor": 5
}
