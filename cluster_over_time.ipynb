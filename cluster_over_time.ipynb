{
 "cells": [
  {
   "cell_type": "code",
   "execution_count": 1,
   "id": "2567f8f5-fbdc-4bfd-9f21-2c13716e1ca0",
   "metadata": {},
   "outputs": [],
   "source": [
    "import pandas as pd\n",
    "import numpy as np\n",
    "import itertools as it\n",
    "from sklearn.decomposition import PCA\n",
    "from sklearn.cluster import DBSCAN, HDBSCAN\n",
    "from sklearn.preprocessing import MinMaxScaler\n",
    "import umap\n",
    "import matplotlib.pyplot as plt\n",
    "import seaborn as sns\n",
    "import dask\n",
    "import os\n",
    "import glasbey\n",
    "from mpl_toolkits.basemap import Basemap\n",
    "from sklearn.metrics import silhouette_score, davies_bouldin_score, calinski_harabasz_score"
   ]
  },
  {
   "cell_type": "code",
   "execution_count": 2,
   "id": "a7a6b34c-20f7-4ad8-a779-1a87584d60a0",
   "metadata": {},
   "outputs": [],
   "source": [
    "hyps = {\"kmeans\": {\"n_clusters\": list(range(1, 16)) + [20, 30, 40, 50, 60], \"n_init\": [\"auto\"]},\n",
    "        \"ward\": {\"n_clusters\": range(1, 31), \"distance_threshold\": [None], \"linkage\": [\"ward\"]},\n",
    "        # \"dbscan\": {\"eps\": np.linspace(0.1, 1.0, 30), \"min_samples\": range(2, 100, 10)},\n",
    "        \"dbscan\": {\"eps\": np.linspace(0.07, 0.1, 30), \"min_samples\": range(2, 20, 10)},\n",
    "        \"hdbscan\": {\"min_cluster_size\": [2, 10, 20, 30, 40, 50, 60, 100]},\n",
    "        \"optics\": {\"min_samples\": range(1, 16), \"max_eps\": [np.inf]}}"
   ]
  },
  {
   "cell_type": "code",
   "execution_count": 3,
   "id": "46d04f04-4efb-47de-a80e-1692bba41af0",
   "metadata": {},
   "outputs": [],
   "source": [
    "# 3d plot\n",
    "def coupled_label_plot(df, umap_plot=True):\n",
    "    mymap = Basemap(llcrnrlon=df[\"LONGITUDE\"].min(), llcrnrlat=df[\"LATITUDE\"].min(), \n",
    "                    urcrnrlon=df[\"LONGITUDE\"].max(), urcrnrlat=df[\"LATITUDE\"].max(), fix_aspect=False)\n",
    "    \n",
    "    fig = plt.figure()\n",
    "    ax = fig.add_subplot(projection='3d')\n",
    "    ax.scatter(df[\"LONGITUDE\"], df[\"LATITUDE\"], df[\"LEV_M\"], c=df[\"color\"], s=0.5, alpha=1, zorder=4)  # df[\"predictions\"]\n",
    "    ax.add_collection3d(mymap.drawcoastlines(linewidth=0.5))\n",
    "    ax.set_box_aspect((np.ptp(df[\"LONGITUDE\"]), np.ptp(df[\"LATITUDE\"]), np.ptp(df[\"LEV_M\"])/50))  # aspect ratio is 1:1:1 in data space\n",
    "    plt.gca().invert_zaxis()\n",
    "    plt.show()\n",
    "\n",
    "    if umap_plot:\n",
    "        fig = plt.figure()\n",
    "        ax = fig.add_subplot(projection='3d')\n",
    "        ax.scatter(df[\"e0\"], df[\"e1\"], df[\"e2\"], c=df[\"color\"], alpha=0.8, zorder=4, s=1)  # , s=s, alpha=1, zorder=4)\n",
    "        plt.show(block=True)"
   ]
  },
  {
   "cell_type": "code",
   "execution_count": 6,
   "id": "eb4c056b-4dfe-484e-82ab-53adaf1e1ba5",
   "metadata": {},
   "outputs": [],
   "source": [
    "# @dask.delayed\n",
    "def func(df, hyp_combo, algorithm, iteration, prefix=None):\n",
    "    print(hyp_combo)\n",
    "    filename = f\"out2/scores_{algorithm}_{prefix}_i{iteration}_{'_'.join([str(k)+str(v) for k, v in hyp_combo.items()])}.csv\"\n",
    "    scores = pd.DataFrame(columns=[\"iteration\", \"silhouette\", \"davies_bouldin\", \"calinski\"] + list(hyp_combo.keys()))\n",
    "\n",
    "    if not os.path.isfile(filename):\n",
    "        if algorithm == \"kmeans\":\n",
    "            kmeans = KMeans(**hyp_combo).fit(df)\n",
    "            y_pred = kmeans.predict(df)\n",
    "            # plot_3d(df_in, kmeans_labels)\n",
    "        elif algorithm == \"ward\":\n",
    "            model = AgglomerativeClustering(**hyp_combo).fit(df)\n",
    "            y_pred = model.labels_\n",
    "        elif algorithm == \"dbscan\":\n",
    "            model = DBSCAN(**hyp_combo).fit(df)\n",
    "            y_pred = model.labels_\n",
    "        elif algorithm == \"optics\":\n",
    "            model = OPTICS(**hyp_combo).fit(df)\n",
    "            y_pred = model.labels_\n",
    "        elif algorithm == \"hdbscan\": \n",
    "            model = HDBSCAN(**hyp_combo).fit(df)\n",
    "            y_pred = model.labels_\n",
    "        else:\n",
    "            print(\"Clustering algorithm not implemented\")\n",
    "    \n",
    "        nclusters = len(np.unique(y_pred))\n",
    "        if nclusters > 1:\n",
    "            sil = silhouette_score(df, y_pred)\n",
    "            db = davies_bouldin_score(df, y_pred)\n",
    "            cal = calinski_harabasz_score(df, y_pred)\n",
    "        else:\n",
    "            sil = np.nan\n",
    "            db = np.nan\n",
    "            cal = np.nan\n",
    "    \n",
    "        scores = pd.concat([scores, pd.DataFrame({\"nclusters\": nclusters, \"iteration\": [iteration], \"silhouette\": [sil], \"davies_bouldin\": [db], \"calinski\": [cal]})])\n",
    "        scores.reset_index(inplace=True, drop=True)\n",
    "        scores = scores.combine_first(pd.DataFrame.from_dict([hyp_combo]).set_index(pd.Series(len(scores)-1)))\n",
    "    \n",
    "        scores.to_csv(filename, index=False)\n",
    "\n",
    "    return scores"
   ]
  },
  {
   "cell_type": "code",
   "execution_count": 7,
   "id": "a0e27fb2-0632-44f6-b180-3bd14924e4e7",
   "metadata": {},
   "outputs": [],
   "source": [
    "# @dask.delayed\n",
    "def compute_scores(df, algorithm=\"kmeans\", iterations=10, prefix=None):\n",
    "    hyp_dict = hyps[algorithm]\n",
    "    hyp_combinations = list(it.product(*hyp_dict.values()))\n",
    "\n",
    "    res = []\n",
    "    \n",
    "    for i in range(iterations):\n",
    "        print(i)\n",
    "        for h in hyp_combinations:\n",
    "            print(h)\n",
    "            hyp_combo = dict((b, a) for a, b in zip(h, hyp_dict.keys()))\n",
    "            res.append(func(df=df, hyp_combo=hyp_combo, algorithm=algorithm, iteration=i, prefix=prefix))\n",
    "            \n",
    "    return res"
   ]
  },
  {
   "cell_type": "code",
   "execution_count": 8,
   "id": "ab908747-8b18-4866-8585-7e1f65ddd111",
   "metadata": {},
   "outputs": [],
   "source": [
    "def plot_heatmap(df, x=\"min_samples\", y=\"eps\", color=\"nclusters\", title=\"Sweep of DBSAN\"):\n",
    "    idx = df[y].unique()\n",
    "    cols = df[x].unique()\n",
    "    field = pd.DataFrame(df[color].to_numpy().reshape(len(idx), len(cols)), index=idx, columns=cols)\n",
    "    sns.heatmap(data=field, cbar_kws={'label': color}, annot=True, fmt='g')\n",
    "    plt.xlabel(x)\n",
    "    plt.ylabel(y)\n",
    "    plt.title(title)"
   ]
  },
  {
   "cell_type": "code",
   "execution_count": 9,
   "id": "22a739a1-107f-4626-b6a5-a808e3ffcea3",
   "metadata": {},
   "outputs": [],
   "source": [
    "def plot_coefficients(scores, x=\"n_clusters\", algorithm=\"kmeans\", output_path=\"output/clustering/\", suffix=None, save=True):\n",
    "    plot_score(scores, x, \"silhouette\")  # KMeans: k=10 (close to 1 = best)\n",
    "    if save:\n",
    "        plt.savefig(f\"{output_path}{algorithm}/silhouette_{algorithm}_{x}{suffix}.png\")\n",
    "    plt.show()\n",
    "\n",
    "    plot_score(scores, x, \"davies_bouldin\")  # KMeans: k=10 (closest to minimum (zero)\n",
    "    if save:\n",
    "        plt.savefig(f\"{output_path}{algorithm}/davies_bouldin_{algorithm}_{x}{suffix}.png\")\n",
    "    plt.show()\n",
    "\n",
    "    plot_score(scores, x, \"calinski\")  # KMeans: k= (max is best)\n",
    "    if save:\n",
    "        plt.savefig(f\"{output_path}{algorithm}/calinski_harabasz_{algorithm}_{x}{suffix}.png\")\n",
    "    plt.show()"
   ]
  },
  {
   "cell_type": "code",
   "execution_count": 10,
   "id": "09c7e9a5-b2cc-46d4-8657-84cc7aae8f23",
   "metadata": {},
   "outputs": [],
   "source": [
    "def plot_score(df, x, y):\n",
    "    xmap = {\"n_clusters\": \"Number of clusters\", \"eps\": \"Epsilon\", \"min_samples\": \"Minimum number of samples\"}\n",
    "    df_mean = df.dropna()[[x, y]].groupby(x).mean()\n",
    "    if y == \"silhouette\":\n",
    "        t = \"Silhouette Score\"\n",
    "        optimal_x = df_mean.idxmax().values[0]\n",
    "    elif y == \"davies_bouldin\":\n",
    "        t = \"Davies Bouldin Score\"\n",
    "        optimal_x = df_mean.idxmin().values[0]\n",
    "    elif y == \"calinski\":\n",
    "        t = \"Calinski Harabasz Score\"\n",
    "        optimal_x = df_mean.idxmax().values[0]\n",
    "\n",
    "    # plt.plot(df[x], df[y])\n",
    "    plt.figure()\n",
    "    sns.lineplot(df, x=x, y=y)\n",
    "    plt.ylabel(t)\n",
    "    plt.xlabel(xmap[x])\n",
    "    plt.axvline(optimal_x, color=\"orange\")\n",
    "    plt.tight_layout()"
   ]
  },
  {
   "cell_type": "code",
   "execution_count": 11,
   "id": "cab456f3-3275-473b-a1ba-0a81325a3d46",
   "metadata": {},
   "outputs": [],
   "source": [
    "# load data\n",
    "df_in = pd.read_csv(\"../ocean_clusters_over_time/data/df_knn_3x20.csv\")\n",
    "df = df_in[['P_SILICATE', 'P_OXYGEN', 'P_PHOSPHATE', 'P_NITRATE', 'P_SALINITY', 'P_TEMPERATURE']]"
   ]
  },
  {
   "cell_type": "code",
   "execution_count": 12,
   "id": "bf044068-9034-4ded-90c6-7bd748e7fa68",
   "metadata": {},
   "outputs": [],
   "source": [
    "# scale\n",
    "scaler = MinMaxScaler()\n",
    "df_scaled = scaler.fit_transform(df)"
   ]
  },
  {
   "cell_type": "code",
   "execution_count": 13,
   "id": "fee977b3-0811-405e-a7eb-e633457d7eef",
   "metadata": {
    "scrolled": true
   },
   "outputs": [],
   "source": [
    "# # find a good embedding\n",
    "# for dist, neighbors in list(it.product([0.0, 0.1, 0.2, 0.5, 1.0], [5, 10, 15, 20, 50])):\n",
    "#     # embed\n",
    "#     embedding = umap.UMAP(min_dist=dist, n_components=3, n_neighbors=neighbors).fit_transform(df_scaled)\n",
    "    \n",
    "#     fig = plt.figure(figsize=(7, 6))\n",
    "#     ax = fig.add_subplot(projection='3d')\n",
    "#     ax.scatter(embedding[:, 0], embedding[:, 1], embedding[:, 2], alpha=0.08, s=2, marker=\".\")\n",
    "#     plt.xlabel(\"Axis 0\")\n",
    "#     plt.ylabel(\"Axis 1\")\n",
    "#     ax.set_zlabel(\"Axis 2\")\n",
    "#     plt.title(f\"min_dist={dist}, n_neighbors={neighbors}\")\n",
    "#     plt.tight_layout()\n",
    "#     plt.savefig(f\"output/umap_mindist{dist}_nneighbors{neighbors}.png\")\n",
    "#     plt.show()"
   ]
  },
  {
   "cell_type": "code",
   "execution_count": 14,
   "id": "896db89f-ff5c-4c22-a740-78fea63d2d38",
   "metadata": {},
   "outputs": [
    {
     "data": {
      "image/png": "[encoded data removed]",
      "text/plain": [
       "<Figure size 700x600 with 1 Axes>"
      ]
     },
     "metadata": {},
     "output_type": "display_data"
    }
   ],
   "source": [
    "# embed data\n",
    "embedding = umap.UMAP(min_dist=0.0, n_components=3, n_neighbors=10).fit_transform(df_scaled)\n",
    "\n",
    "# visualize embedding\n",
    "fig = plt.figure(figsize=(7, 6))\n",
    "ax = fig.add_subplot(projection='3d')\n",
    "ax.scatter(embedding[:, 0], embedding[:, 1], embedding[:, 2], alpha=0.08, s=2, marker=\".\")\n",
    "plt.xlabel(\"Axis 0\")\n",
    "plt.ylabel(\"Axis 1\")\n",
    "ax.set_zlabel(\"Axis 2\")\n",
    "plt.tight_layout()\n",
    "plt.savefig(\"output/umap_space.png\")\n",
    "plt.show()"
   ]
  },
  {
   "cell_type": "markdown",
   "id": "9c6378ce-0aff-4311-b02f-c2b7c9655c14",
   "metadata": {},
   "source": [
    "# DBSCAN tuning"
   ]
  },
  {
   "cell_type": "code",
   "execution_count": null,
   "id": "df9c8233-a628-4245-b287-e4f32e515f3e",
   "metadata": {},
   "outputs": [],
   "source": [
    "os.getcwd()"
   ]
  },
  {
   "cell_type": "code",
   "execution_count": null,
   "id": "641d01d6-4fc3-4c23-978a-145d421594d7",
   "metadata": {},
   "outputs": [],
   "source": [
    "from dask.distributed import Client\n",
    "\n",
    "client = Client(n_workers=8)\n",
    "client"
   ]
  },
  {
   "cell_type": "code",
   "execution_count": null,
   "id": "148eb938-f9c7-48ca-8049-13fd592ec4f8",
   "metadata": {
    "scrolled": true
   },
   "outputs": [],
   "source": [
    "dbscan_scores = compute_scores(df=embedding, algorithm=\"dbscan\", iterations=1)"
   ]
  },
  {
   "cell_type": "code",
   "execution_count": null,
   "id": "a521b75c-6978-4051-93e1-318bf14437f2",
   "metadata": {
    "scrolled": true
   },
   "outputs": [],
   "source": [
    "res = dask.compute(*dbscan_scores)"
   ]
  },
  {
   "cell_type": "code",
   "execution_count": null,
   "id": "01f484ae-d38f-430c-bbb0-5a4a9ed3fcbc",
   "metadata": {
    "scrolled": true
   },
   "outputs": [],
   "source": [
    "# import glob\n",
    "# res = []\n",
    "# for f in glob.glob(\"out2/scores_dbscan_i*_eps*_min_samples*.csv\"):\n",
    "#     a = pd.read_csv(f)\n",
    "#     res.append(a)"
   ]
  },
  {
   "cell_type": "code",
   "execution_count": null,
   "id": "7b83df29-8b1e-45be-a287-1e4df0c17ee1",
   "metadata": {},
   "outputs": [],
   "source": [
    "res = pd.concat(res)"
   ]
  },
  {
   "cell_type": "code",
   "execution_count": null,
   "id": "57c8c508-add5-48d4-b568-1b93689198dc",
   "metadata": {},
   "outputs": [],
   "source": [
    "# res.to_csv(\"\", index=False)"
   ]
  },
  {
   "cell_type": "code",
   "execution_count": null,
   "id": "c665a707-ae89-47b9-aaf3-81dfb2a7440c",
   "metadata": {},
   "outputs": [],
   "source": [
    "# plot_heatmap(res.sort_values([\"eps\", \"min_samples\"]), x=\"min_samples\", y=\"eps\", color=\"nclusters\", title=\"Sweep of DBSCAN (on original data)\")\n",
    "# plt.show()"
   ]
  },
  {
   "cell_type": "code",
   "execution_count": null,
   "id": "cabe0d30-bd6c-49e8-8fb9-04975f07b87b",
   "metadata": {
    "scrolled": true
   },
   "outputs": [],
   "source": [
    "# plot scores\n",
    "res[\"eps\"] = res[\"eps\"].astype(float)\n",
    "res[\"iteration\"] = res[\"iteration\"].astype(float)\n",
    "res[\"min_samples\"] = res[\"min_samples\"].astype(float)\n",
    "res_i = res.groupby([\"eps\", \"min_samples\"]).mean().drop(\"iteration\", axis=1).reset_index()\n",
    "\n",
    "plot_heatmap(res_i, x=\"min_samples\", y=\"eps\", color=\"nclusters\", title=\"Sweep of DBSCAN (on original data)\")\n",
    "plt.show()\n",
    "\n",
    "plot_coefficients(res, x=\"eps\", algorithm=\"dbscan\", save=False)\n",
    "plot_coefficients(res, x=\"min_samples\", algorithm=\"dbscan\", save=False)\n",
    "\n",
    "# #for e, m in [(0.110345, 2), (0.1, 3), (0.5, 5), (0.12413793103448277, 6)]:\n",
    "# dlabels = df[\"label\"] # compute_clusters(df_scaled, df_in, algorithm=\"dbscan\", hyps={\"eps\": e, \"min_samples\": m}, spec=\"original_data\")\n",
    "# print(f\"Number of clusters: {len(np.unique(dlabels))}\")\n",
    "# coupled_label_plot(df) # , dlabels, embedding)"
   ]
  },
  {
   "cell_type": "code",
   "execution_count": null,
   "id": "34092860-a052-4280-86b5-17f1d184b16f",
   "metadata": {},
   "outputs": [],
   "source": [
    "hyps[\"dbscan\"]"
   ]
  },
  {
   "cell_type": "code",
   "execution_count": null,
   "id": "6827c501-5603-489a-85b3-a1d0fcfeff36",
   "metadata": {},
   "outputs": [],
   "source": []
  },
  {
   "cell_type": "markdown",
   "id": "0dda8f78-809d-4ddd-8a1b-ebfe9cce91d7",
   "metadata": {},
   "source": [
    "## Compute optimal clustering"
   ]
  },
  {
   "cell_type": "code",
   "execution_count": null,
   "id": "1dece8b8-a82d-489c-aaf3-6aa26dc91217",
   "metadata": {},
   "outputs": [],
   "source": [
    "model = DBSCAN(eps= 0.085, min_samples=10)\n",
    "model.fit(embedding)"
   ]
  },
  {
   "cell_type": "code",
   "execution_count": null,
   "id": "a742646a-afa9-49f7-9d23-ebb26620640f",
   "metadata": {},
   "outputs": [],
   "source": [
    "df_in[\"label\"] = model.labels_\n",
    "df_in[\"LONGITUDE\"] = np.arcsin(df_in[\"LONGITUDE0\"])/(2*np.pi)*360*(-1)\n",
    "\n",
    "df_in[\"e0\"] = embedding[:, 0]\n",
    "df_in[\"e1\"] = embedding[:, 1]\n",
    "df_in[\"e2\"] = embedding[:, 2]"
   ]
  },
  {
   "cell_type": "code",
   "execution_count": null,
   "id": "97c3a625-55d8-4269-bd33-5434bb01711a",
   "metadata": {},
   "outputs": [],
   "source": [
    "unique_labels = np.sort(np.unique(df_in[\"label\"]))\n",
    "colors = glasbey.create_palette(palette_size=len(unique_labels))\n",
    "color_map = {label: color for label, color in zip(unique_labels, colors)}\n",
    "df_in[\"color\"] = df_in[\"label\"].map(lambda x: color_map[x])\n",
    "df_in.loc[df_in[\"label\"] == -1, \"color\"] = \"#000000\"  # color noise in black\n",
    "df_dropped = df_in[df_in[\"label\"] != -1]\n",
    "\n",
    "mymap = Basemap(llcrnrlon=df_in[\"LONGITUDE\"].min(), llcrnrlat=df_in[\"LATITUDE\"].min(), \n",
    "                urcrnrlon=df_in[\"LONGITUDE\"].max(), urcrnrlat=df_in[\"LATITUDE\"].max(), fix_aspect=False)\n",
    "\n",
    "for year in df_in[\"year\"].unique():\n",
    "    temp = df_dropped[df_dropped[\"year\"] == year]\n",
    "    \n",
    "    fig = plt.figure(figsize=(8,6))\n",
    "    ax = fig.add_subplot(projection='3d')\n",
    "    ax.scatter(temp[\"LONGITUDE\"], temp[\"LATITUDE\"], temp[\"LEV_M\"], color=temp[\"color\"], s=2, alpha=1, marker=\".\")\n",
    "    ax.add_collection3d(mymap.drawcoastlines(linewidth=0.5))\n",
    "    ax.set_box_aspect((np.ptp(temp[\"LONGITUDE\"]), np.ptp(temp[\"LATITUDE\"]),\n",
    "                       np.ptp(temp[\"LEV_M\"]) / 50))  # aspect ratio is 1:1:1 in data space\n",
    "    plt.gca().invert_zaxis()\n",
    "    plt.savefig(f\"dbscan_{year}.png\")\n",
    "    plt.show()\n",
    "    \n",
    "    fig = plt.figure(figsize=(8,5))\n",
    "    ax = fig.add_subplot(projection='3d')\n",
    "    ax.scatter(temp[\"e0\"], temp[\"e1\"], temp[\"e2\"], c=temp[\"color\"], alpha=0.8, s=1)  # , s=s, alpha=1, zorder=4)\n",
    "    plt.savefig(f\"dbscan_umap_{year}.png\")\n",
    "    plt.show()"
   ]
  },
  {
   "cell_type": "code",
   "execution_count": null,
   "id": "82c7d9b9-24f3-47a3-b7a7-bd9185f18ed4",
   "metadata": {},
   "outputs": [],
   "source": [
    "# viz per depth\n",
    "plt.rcParams[\"figure.figsize\"] = (12, 6)\n",
    "\n",
    "for year in df_in[\"year\"].unique():\n",
    "    fig, axs = plt.subplots(nrows=3, ncols=4)\n",
    "    axs = axs.flatten()\n",
    "    \n",
    "    for i, depth in enumerate(df_in[\"LEV_M\"].unique()):\n",
    "        temp = df_in[(df_in[\"LEV_M\"] == depth) & (df_in[\"year\"] == year)]\n",
    "        axs[i].scatter(temp[\"LONGITUDE\"], temp[\"LATITUDE\"], c=temp[\"color\"], s=0.4, marker=\"s\")\n",
    "        axs[i].title.set_text(f\"{depth} m\")\n",
    "    fig.suptitle(year)\n",
    "    plt.savefig(f\"dbscan_depth_{year}.png\")\n",
    "    plt.show()"
   ]
  },
  {
   "cell_type": "code",
   "execution_count": null,
   "id": "71efb073-367e-4707-b9cd-2abb189a90ed",
   "metadata": {},
   "outputs": [],
   "source": [
    "def drop_clusters_with_few_samples(df, thresh=None, ylog=False):\n",
    "    \"\"\" If thresh is None, the Kneedle algorithm will be used to determine a treshold. \"\"\"\n",
    "    temp = df.copy()\n",
    "    \n",
    "    # count number of grid cells in each cluster\n",
    "    df_nums = temp.groupby(\"label\").count()[\"color\"].reset_index().rename(columns={\"color\": \"count\"})\n",
    "    df_nums = df_nums.sort_values(\"count\").reset_index(drop=True)\n",
    "    df_nums[\"label\"] = df_nums[\"label\"].astype(str)\n",
    "\n",
    "    # compute threshold to cut off clusters\n",
    "    if not thresh:\n",
    "        cluster_label, thresh = compute_elbow_threshold(df_nums, y_name=\"count\", y_label=\"Number of samples\")\n",
    "    else:\n",
    "        # plot number of cells per cluster\n",
    "        plt.plot(df_nums[\"label\"], df_nums[\"count\"])\n",
    "        if ylog: \n",
    "            plt.yscale(\"log\")\n",
    "        plt.ylabel(\"Number of samples\")\n",
    "        plt.xlabel(\"Cluster\")\n",
    "        plt.xticks([])\n",
    "        plt.axhline(thresh, color=\"orange\")\n",
    "        plt.yticks(list(plt.yticks()[0]) + [thresh])\n",
    "        plt.show()\n",
    "\n",
    "    # set all labels to -1 (noise) where num samples is too small\n",
    "    labels_to_keep = df_nums[df_nums[\"count\"] >= thresh].label\n",
    "    print(\"Remaining number of clusters:\" + str(len(labels_to_keep)))\n",
    "    temp = temp[temp[\"label\"].astype(str).isin(labels_to_keep)]\n",
    "\n",
    "    # plotting\n",
    "    # coupled_label_plot(temp)\n",
    "\n",
    "    return temp"
   ]
  },
  {
   "cell_type": "code",
   "execution_count": null,
   "id": "22f6b6cd-2677-4a6e-907c-22ed708553ea",
   "metadata": {},
   "outputs": [],
   "source": [
    "def compute_elbow_threshold(df_label_counts, y_name=\"count\", y_label=\"Number of samples\"):\n",
    "    x = df_label_counts.index\n",
    "    y = df_label_counts[y_name]\n",
    "    kn = KneeLocator(x=x, y=y, curve='convex', direction='increasing')\n",
    "    knee = kn.knee\n",
    "\n",
    "    fig = plt.figure()\n",
    "    plt.xlabel('Clusters')\n",
    "    plt.ylabel(y_label)\n",
    "    plt.plot(x, y, \"-\")  # \"'x-')\n",
    "    plt.vlines(knee, plt.ylim()[0], plt.ylim()[1], linestyles='dashed', color=\"orange\")\n",
    "    plt.hlines(df_label_counts.iloc[knee][y_name], plt.xlim()[0], plt.xlim()[1], linestyles='dashed', color=\"orange\")\n",
    "    # plt.xticks([knee], labels=[df_label_counts.iloc[knee][\"labels\"]])\n",
    "    plt.xticks([knee])\n",
    "    plt.yticks(list(plt.yticks()[0]) + [df_label_counts.iloc[knee][y_name]])\n",
    "    plt.show()\n",
    "\n",
    "    return df_label_counts.iloc[knee][\"label\"], df_label_counts.iloc[knee][y_name]"
   ]
  },
  {
   "cell_type": "code",
   "execution_count": null,
   "id": "529dd918-0b5b-4c11-b684-8549d32fbce8",
   "metadata": {},
   "outputs": [],
   "source": [
    "df_dropped = drop_clusters_with_few_samples(df_in, thresh=60, ylog=True)"
   ]
  },
  {
   "cell_type": "code",
   "execution_count": null,
   "id": "0670cc7f-17fa-46ec-a1cf-4acf6857a707",
   "metadata": {},
   "outputs": [],
   "source": [
    "coupled_label_plot(df_dropped[df_dropped[\"label\"] != -1])"
   ]
  },
  {
   "cell_type": "code",
   "execution_count": null,
   "id": "33debbc9-2347-423e-8b66-e6a773f5b403",
   "metadata": {
    "scrolled": true
   },
   "outputs": [],
   "source": []
  },
  {
   "cell_type": "code",
   "execution_count": null,
   "id": "d68d2da2-2963-47e8-86bf-4aadc3a959c8",
   "metadata": {},
   "outputs": [],
   "source": []
  },
  {
   "cell_type": "markdown",
   "id": "313656be-4e72-4238-a1a0-14f0849dcb5d",
   "metadata": {},
   "source": [
    "# Cluster with time dimension on time dataset"
   ]
  },
  {
   "cell_type": "code",
   "execution_count": null,
   "id": "039f6175-abc9-4697-9b03-039cf08769d8",
   "metadata": {},
   "outputs": [],
   "source": [
    "# load data\n",
    "df_in = pd.read_csv(\"../ocean_clusters_over_time/df_knn_3x20.csv\")"
   ]
  },
  {
   "cell_type": "code",
   "execution_count": null,
   "id": "eb508f1f-33ba-4c57-b13b-9a3c1dd319e0",
   "metadata": {},
   "outputs": [],
   "source": [
    "df_in"
   ]
  },
  {
   "cell_type": "code",
   "execution_count": null,
   "id": "ddf3f032-3e9d-40a0-8186-cd84fa8f84aa",
   "metadata": {},
   "outputs": [],
   "source": [
    "# scale\n",
    "scaler = MinMaxScaler()\n",
    "df_scaled = scaler.fit_transform(df)"
   ]
  },
  {
   "cell_type": "code",
   "execution_count": null,
   "id": "0f3b3a8e-38d8-495a-a6b9-0ff899b77b33",
   "metadata": {},
   "outputs": [],
   "source": [
    "# embed data \n",
    "embedding = umap.UMAP(min_dist=0.0, n_components=3, n_neighbors=10).fit_transform(df_scaled)\n",
    "\n",
    "# visualize embedding\n",
    "fig = plt.figure(figsize=(7, 6))\n",
    "ax = fig.add_subplot(projection='3d')\n",
    "ax.scatter(embedding[:, 0], embedding[:, 1], embedding[:, 2], alpha=0.08, s=2, marker=\".\")\n",
    "plt.xlabel(\"Axis 0\")\n",
    "plt.ylabel(\"Axis 1\")\n",
    "ax.set_zlabel(\"Axis 2\")\n",
    "plt.tight_layout()\n",
    "# plt.savefig(\"output/umap_space.png\")\n",
    "plt.show()"
   ]
  },
  {
   "cell_type": "code",
   "execution_count": null,
   "id": "d23d3076-ff0d-4c47-bfbf-e9e5a5ac0d93",
   "metadata": {},
   "outputs": [],
   "source": []
  },
  {
   "cell_type": "code",
   "execution_count": null,
   "id": "bc8bcc22-fe42-4426-a57a-692c0ae6a3ad",
   "metadata": {},
   "outputs": [],
   "source": []
  },
  {
   "cell_type": "code",
   "execution_count": null,
   "id": "0d447f26-bec1-4b39-b607-e79248838bfc",
   "metadata": {},
   "outputs": [],
   "source": []
  },
  {
   "cell_type": "code",
   "execution_count": null,
   "id": "303215c4-2178-46ed-a797-6c535445689d",
   "metadata": {},
   "outputs": [],
   "source": []
  },
  {
   "cell_type": "markdown",
   "id": "058330ff-df71-4f06-bea6-0a058491ace8",
   "metadata": {},
   "source": [
    "# The other appoach - cluster each epoch"
   ]
  },
  {
   "cell_type": "code",
   "execution_count": null,
   "id": "927796da-84ca-4de3-8e93-57c30393342a",
   "metadata": {},
   "outputs": [],
   "source": [
    "# load data\n",
    "df = pd.read_csv(\"../ocean_clusters_over_time/df_knn_3x20.csv\")"
   ]
  },
  {
   "cell_type": "code",
   "execution_count": null,
   "id": "9715ae61-5b8e-4db8-ae12-22519accce76",
   "metadata": {
    "scrolled": true
   },
   "outputs": [],
   "source": [
    "# find hyperparameters\n",
    "for year in df[\"year\"].unique():\n",
    "    temp = df[df[\"year\"] == year]\n",
    "\n",
    "    # scale\n",
    "    scaler = MinMaxScaler()\n",
    "    temp_scaled = scaler.fit_transform(temp)\n",
    "\n",
    "    # embed\n",
    "    embedding = umap.UMAP(min_dist=0.0, n_components=3, n_neighbors=20).fit_transform(temp_scaled)\n",
    "\n",
    "    # cluster\n",
    "    dbscan_scores = compute_scores(df=embedding, algorithm=\"dbscan\", iterations=1, prefix=year)"
   ]
  },
  {
   "cell_type": "code",
   "execution_count": null,
   "id": "d6de3d34-8f6c-4051-9cbc-ec229f1f636f",
   "metadata": {},
   "outputs": [],
   "source": [
    "import glob\n",
    "res = []\n",
    "year=\"1960.0\"  # \"1980.0\" \"2000.0\"\n",
    "for f in glob.glob(f\"output/scores_dbscan_{year}_i*_eps*_min_samples*.csv\"):\n",
    "    a = pd.read_csv(f)\n",
    "    a = a.drop(\"Unnamed: 0\", axis=1)\n",
    "    res.append(a)\n",
    "\n",
    "res = pd.concat(res)"
   ]
  },
  {
   "cell_type": "code",
   "execution_count": null,
   "id": "dfc70199-0e00-40f0-b7f7-ec92addb4610",
   "metadata": {},
   "outputs": [],
   "source": [
    "res"
   ]
  },
  {
   "cell_type": "code",
   "execution_count": null,
   "id": "431061e2-61c2-4bbe-89b0-bb27755ec5c2",
   "metadata": {},
   "outputs": [],
   "source": [
    "# plot scores\n",
    "res[\"eps\"] = res[\"eps\"].astype(float)\n",
    "res[\"iteration\"] = res[\"iteration\"].astype(float)\n",
    "res[\"min_samples\"] = res[\"min_samples\"].astype(float)\n",
    "res_i = res.groupby([\"eps\", \"min_samples\"]).mean().drop(\"iteration\", axis=1).reset_index()\n",
    "\n",
    "plot_heatmap(res_i, x=\"min_samples\", y=\"eps\", color=\"nclusters\", title=\"Sweep of DBSCAN (on original data)\")\n",
    "plt.show()\n",
    "\n",
    "plot_coefficients(res, x=\"eps\", algorithm=\"dbscan\", save=False)\n",
    "plot_coefficients(res, x=\"min_samples\", algorithm=\"dbscan\", save=False)\n",
    "\n",
    "#for e, m in [(0.110345, 2), (0.1, 3), (0.5, 5), (0.12413793103448277, 6)]:\n",
    "#dlabels = df[\"label\"] # compute_clusters(df_scaled, df_in, algorithm=\"dbscan\", hyps={\"eps\": e, \"min_samples\": m}, spec=\"original_data\")\n",
    "#print(f\"Number of clusters: {len(np.unique(dlabels))}\")\n",
    "# coupled_label_plot(df) # , dlabels, embedding)"
   ]
  },
  {
   "cell_type": "code",
   "execution_count": null,
   "id": "78cf1c6e-113e-4883-bebd-3fc595f5b9f4",
   "metadata": {},
   "outputs": [],
   "source": []
  },
  {
   "cell_type": "code",
   "execution_count": null,
   "id": "22cfdc4e-e937-446d-910e-32b2c73b09e3",
   "metadata": {},
   "outputs": [],
   "source": []
  },
  {
   "cell_type": "code",
   "execution_count": 17,
   "id": "79776ecf-5955-4fd2-9347-64780334b755",
   "metadata": {},
   "outputs": [
    {
     "data": {
      "text/plain": [
       "'/albedo/home/yvjennig/github/ocean_clusters_over_time'"
      ]
     },
     "execution_count": 17,
     "metadata": {},
     "output_type": "execute_result"
    }
   ],
   "source": [
    "import os\n",
    "os.getcwd()"
   ]
  },
  {
   "cell_type": "markdown",
   "id": "3690c292-bb50-4877-af6a-eda704fd4de5",
   "metadata": {},
   "source": [
    "# Use SOMPY"
   ]
  },
  {
   "cell_type": "code",
   "execution_count": 15,
   "id": "5180c958-1a17-4e66-9eba-ade27b8c8a9e",
   "metadata": {},
   "outputs": [
    {
     "name": "stdout",
     "output_type": "stream",
     "text": [
      "[23.78927906 22.63865166 15.99265561]\n"
     ]
    }
   ],
   "source": [
    "# determine mapsize\n",
    "pca = PCA() \n",
    "pca_out =pca.fit_transform(embedding)\n",
    "eigenvalue1 = pca.explained_variance_[0]\n",
    "eigenvalue2 = pca.explained_variance_[1]\n",
    "max_number_clusters = 500\n",
    "\n",
    "ax1 = int(np.ceil(max_number_clusters*(eigenvalue1/(eigenvalue1+eigenvalue2))))\n",
    "ax2 = int(np.ceil(max_number_clusters*(eigenvalue2/(eigenvalue1+eigenvalue2))))\n",
    "\n",
    "print(pca.explained_variance_)"
   ]
  },
  {
   "cell_type": "code",
   "execution_count": 16,
   "id": "ff8f5e41-f7bf-468b-a16c-53ac0637baea",
   "metadata": {},
   "outputs": [],
   "source": [
    "import sompy"
   ]
  },
  {
   "cell_type": "code",
   "execution_count": null,
   "id": "a97d9c73-2522-477e-aeee-ca51557e2703",
   "metadata": {
    "scrolled": true
   },
   "outputs": [
    {
     "name": "stderr",
     "output_type": "stream",
     "text": [
      " Training...\n",
      " pca_linear_initialization took: 0.605000 seconds\n",
      " Rough training...\n",
      " radius_ini: 5.000000 , radius_final: 1.000000, trainlen: 60\n",
      "\n",
      " epoch: 1 ---> elapsed time:  166.965000, quantization error: 3.316564\n",
      "\n",
      " epoch: 2 ---> elapsed time:  185.967000, quantization error: 4.929876\n",
      "\n",
      " epoch: 3 ---> elapsed time:  199.720000, quantization error: 2.901507\n",
      "\n",
      "/albedo/home/yvjennig/.conda/envs/time310/lib/python3.10/site-packages/SOMPY-1.1.1-py3.10.egg/sompy/sompy.py:344: RuntimeWarning: invalid value encountered in sqrt\n",
      " epoch: 4 ---> elapsed time:  196.815000, quantization error: nan\n",
      "\n",
      "nan quantization error, exit train\n",
      "\n",
      " epoch: 5 ---> elapsed time:  225.068000, quantization error: 1.830242\n",
      "\n",
      " epoch: 6 ---> elapsed time:  249.532000, quantization error: 1.735969\n",
      "\n",
      " epoch: 7 ---> elapsed time:  252.759000, quantization error: 1.663316\n",
      "\n",
      " epoch: 8 ---> elapsed time:  249.724000, quantization error: 1.595105\n",
      "\n",
      " epoch: 9 ---> elapsed time:  257.428000, quantization error: 1.528902\n",
      "\n",
      " epoch: 10 ---> elapsed time:  250.539000, quantization error: nan\n",
      "\n",
      "nan quantization error, exit train\n",
      "\n",
      " epoch: 11 ---> elapsed time:  243.631000, quantization error: 1.398609\n",
      "\n",
      " epoch: 12 ---> elapsed time:  269.312000, quantization error: nan\n",
      "\n",
      "nan quantization error, exit train\n",
      "\n",
      " epoch: 13 ---> elapsed time:  251.355000, quantization error: 1.282773\n",
      "\n",
      " epoch: 14 ---> elapsed time:  243.056000, quantization error: 1.227747\n",
      "\n",
      " epoch: 15 ---> elapsed time:  250.521000, quantization error: nan\n",
      "\n",
      "nan quantization error, exit train\n",
      "\n",
      " epoch: 16 ---> elapsed time:  246.311000, quantization error: nan\n",
      "\n",
      "nan quantization error, exit train\n",
      "\n",
      " epoch: 17 ---> elapsed time:  252.398000, quantization error: nan\n",
      "\n",
      "nan quantization error, exit train\n",
      "\n",
      " epoch: 18 ---> elapsed time:  250.430000, quantization error: 1.024708\n",
      "\n",
      " epoch: 19 ---> elapsed time:  243.691000, quantization error: nan\n",
      "\n",
      "nan quantization error, exit train\n",
      "\n",
      " epoch: 20 ---> elapsed time:  246.596000, quantization error: nan\n",
      "\n",
      "nan quantization error, exit train\n",
      "\n",
      " epoch: 21 ---> elapsed time:  261.675000, quantization error: 0.890396\n",
      "\n",
      " epoch: 22 ---> elapsed time:  270.310000, quantization error: 0.848725\n",
      "\n",
      " epoch: 23 ---> elapsed time:  247.610000, quantization error: 0.808388\n",
      "\n",
      " epoch: 24 ---> elapsed time:  277.121000, quantization error: 0.769444\n",
      "\n",
      " epoch: 25 ---> elapsed time:  237.360000, quantization error: 0.731829\n",
      "\n",
      " epoch: 26 ---> elapsed time:  248.883000, quantization error: 0.695390\n",
      "\n",
      " epoch: 27 ---> elapsed time:  246.799000, quantization error: 0.660381\n",
      "\n",
      " epoch: 28 ---> elapsed time:  251.316000, quantization error: 0.626474\n",
      "\n",
      " epoch: 29 ---> elapsed time:  244.528000, quantization error: nan\n",
      "\n",
      "nan quantization error, exit train\n",
      "\n",
      " epoch: 30 ---> elapsed time:  230.433000, quantization error: 0.562754\n",
      "\n",
      " epoch: 31 ---> elapsed time:  172.369000, quantization error: 0.532785\n",
      "\n",
      " epoch: 32 ---> elapsed time:  191.024000, quantization error: nan\n",
      "\n",
      "nan quantization error, exit train\n",
      "\n",
      " epoch: 33 ---> elapsed time:  180.902000, quantization error: 0.476901\n",
      "\n",
      " epoch: 34 ---> elapsed time:  204.339000, quantization error: nan\n",
      "\n",
      "nan quantization error, exit train\n",
      "\n",
      " epoch: 35 ---> elapsed time:  193.577000, quantization error: 0.425697\n",
      "\n",
      " epoch: 36 ---> elapsed time:  198.562000, quantization error: nan\n",
      "\n",
      "nan quantization error, exit train\n",
      "\n",
      " epoch: 37 ---> elapsed time:  188.551000, quantization error: nan\n",
      "\n",
      "nan quantization error, exit train\n",
      "\n",
      " epoch: 38 ---> elapsed time:  173.545000, quantization error: nan\n",
      "\n",
      "nan quantization error, exit train\n",
      "\n",
      " epoch: 39 ---> elapsed time:  188.578000, quantization error: nan\n",
      "\n",
      "nan quantization error, exit train\n",
      "\n",
      " epoch: 40 ---> elapsed time:  206.825000, quantization error: nan\n",
      "\n",
      "nan quantization error, exit train\n",
      "\n",
      " epoch: 41 ---> elapsed time:  200.972000, quantization error: nan\n",
      "\n",
      "nan quantization error, exit train\n",
      "\n",
      " epoch: 42 ---> elapsed time:  236.212000, quantization error: nan\n",
      "\n",
      "nan quantization error, exit train\n",
      "\n",
      " epoch: 43 ---> elapsed time:  234.728000, quantization error: nan\n",
      "\n",
      "nan quantization error, exit train\n",
      "\n",
      " epoch: 44 ---> elapsed time:  269.092000, quantization error: nan\n",
      "\n",
      "nan quantization error, exit train\n",
      "\n",
      " epoch: 45 ---> elapsed time:  225.568000, quantization error: nan\n",
      "\n",
      "nan quantization error, exit train\n",
      "\n",
      " epoch: 46 ---> elapsed time:  239.933000, quantization error: nan\n",
      "\n",
      "nan quantization error, exit train\n",
      "\n",
      " epoch: 47 ---> elapsed time:  247.031000, quantization error: nan\n",
      "\n",
      "nan quantization error, exit train\n",
      "\n",
      " epoch: 48 ---> elapsed time:  272.237000, quantization error: nan\n",
      "\n",
      "nan quantization error, exit train\n",
      "\n"
     ]
    }
   ],
   "source": [
    "import time\n",
    "\n",
    "st = time.time()\n",
    "\n",
    "# sompy\n",
    "mapsize = [ax1, ax2]  # related to proportion of eigenvectors --> take first 2 eigenvalues from PCA\n",
    "\n",
    "som = sompy.SOMFactory.build(embedding,\n",
    "                             mapsize=mapsize, \n",
    "                             mask=None, \n",
    "                             mapshape='planar', \n",
    "                             lattice='hexa', \n",
    "                             normalization=None, \n",
    "                             initialization='pca', \n",
    "                             neighborhood='gaussian', \n",
    "                             training='batch', \n",
    "                             name='sompy')\n",
    "\n",
    "som.train(n_job=4, verbose='info', \n",
    "          train_rough_len=60,  # 100\n",
    "          train_rough_radiusin=5, # (initial radius, how conctracted the map is initially)\n",
    "          train_rough_radiusfin=1,\n",
    "          train_finetune_len=80, # 300+ (epochs)\n",
    "          train_finetune_radiusin=1.3,\n",
    "          train_finetune_radiusfin=0.1,)  # verbose='debug' will print more, and verbose=None wont print anything\n",
    "\n",
    "print(time.time() - st)"
   ]
  },
  {
   "cell_type": "code",
   "execution_count": null,
   "id": "6ad121af-e4fc-484f-bf78-cd0d51c1610c",
   "metadata": {},
   "outputs": [],
   "source": [
    "import pickle"
   ]
  },
  {
   "cell_type": "code",
   "execution_count": null,
   "id": "647424c8-6457-4a0f-923e-ca2d7c91cdc3",
   "metadata": {},
   "outputs": [],
   "source": [
    "pickle.dump(som, open(\"som.pickle\", 'wb'))"
   ]
  },
  {
   "cell_type": "code",
   "execution_count": null,
   "id": "3712c7c8-42e2-4df6-b7b0-fdc7d8f7ef26",
   "metadata": {},
   "outputs": [],
   "source": []
  },
  {
   "cell_type": "code",
   "execution_count": null,
   "id": "f10931cf-333d-488c-b82c-02ea604e96b7",
   "metadata": {},
   "outputs": [],
   "source": []
  },
  {
   "cell_type": "code",
   "execution_count": null,
   "id": "d9d24b25-ad8e-4687-a2cc-d5e38ed78d7e",
   "metadata": {},
   "outputs": [],
   "source": [
    "if not som:\n",
    "    import pickle\n",
    "    loaded_model = pickle.load(open(\"som.pickle\", 'rb'))\n",
    "else:\n",
    "    loaded_model = som"
   ]
  },
  {
   "cell_type": "code",
   "execution_count": null,
   "id": "665b8b90-86bd-498d-b8fe-2827ea7fba6f",
   "metadata": {},
   "outputs": [],
   "source": [
    "loaded_model"
   ]
  },
  {
   "cell_type": "code",
   "execution_count": null,
   "id": "31fc84c9-b8bd-476c-8500-19e8f2333880",
   "metadata": {},
   "outputs": [],
   "source": [
    "df_in[\"e0\"] = embedding[:, 0]\n",
    "df_in[\"e1\"] = embedding[:, 1]\n",
    "df_in[\"e2\"] = embedding[:, 2]"
   ]
  },
  {
   "cell_type": "code",
   "execution_count": null,
   "id": "542791c4-7003-47de-ad52-498057537117",
   "metadata": {},
   "outputs": [],
   "source": [
    "bmus = som.find_bmu(df[[\"e0\", \"e1\", \"e2\"]])#, njb=1, nth=1)#, metric='euclidean')\n",
    "df_in[\"bmu\"] = bmus[0,:]"
   ]
  },
  {
   "cell_type": "code",
   "execution_count": null,
   "id": "38f54983-5157-4e78-beee-ab0a4a3c62ea",
   "metadata": {},
   "outputs": [],
   "source": [
    "df_in[\"bmu1\"] = bmus[1,:]"
   ]
  },
  {
   "cell_type": "code",
   "execution_count": null,
   "id": "ac26d90f-98cf-4561-aebb-3d9160069426",
   "metadata": {},
   "outputs": [],
   "source": [
    "df_in.to_csv(\"sompy_over_time.csv\", index=False)"
   ]
  },
  {
   "cell_type": "code",
   "execution_count": null,
   "id": "52bd28de-90fd-453e-a08e-b02754aec6c6",
   "metadata": {},
   "outputs": [],
   "source": []
  },
  {
   "cell_type": "code",
   "execution_count": null,
   "id": "669e21d0-ea86-467a-bb34-f9125a31cc77",
   "metadata": {},
   "outputs": [],
   "source": [
    "embedding nan?"
   ]
  }
 ],
 "metadata": {
  "kernelspec": {
   "display_name": "Python 3 (ipykernel)",
   "language": "python",
   "name": "python3"
  },
  "language_info": {
   "codemirror_mode": {
    "name": "ipython",
    "version": 3
   },
   "file_extension": ".py",
   "mimetype": "text/x-python",
   "name": "python",
   "nbconvert_exporter": "python",
   "pygments_lexer": "ipython3",
   "version": "3.10.12"
  }
 },
 "nbformat": 4,
 "nbformat_minor": 5
}
