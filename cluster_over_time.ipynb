{
 "cells": [
  {
   "cell_type": "code",
   "execution_count": 1,
   "id": "2567f8f5-fbdc-4bfd-9f21-2c13716e1ca0",
   "metadata": {},
   "outputs": [],
   "source": [
    "import pandas as pd\n",
    "import numpy as np\n",
    "import itertools as it\n",
    "from sklearn.decomposition import PCA\n",
    "from sklearn.cluster import DBSCAN, HDBSCAN\n",
    "from sklearn.preprocessing import MinMaxScaler\n",
    "import umap\n",
    "import matplotlib.pyplot as plt\n",
    "import seaborn as sns\n",
    "import dask\n",
    "import os\n",
    "import glasbey\n",
    "from mpl_toolkits.basemap import Basemap\n",
    "from sklearn.metrics import silhouette_score, davies_bouldin_score, calinski_harabasz_score"
   ]
  },
  {
   "cell_type": "code",
   "execution_count": 2,
   "id": "a7a6b34c-20f7-4ad8-a779-1a87584d60a0",
   "metadata": {},
   "outputs": [],
   "source": [
    "hyps = {\"kmeans\": {\"n_clusters\": list(range(1, 16)) + [20, 30, 40, 50, 60], \"n_init\": [\"auto\"]},\n",
    "        \"ward\": {\"n_clusters\": range(1, 31), \"distance_threshold\": [None], \"linkage\": [\"ward\"]},\n",
    "        # \"dbscan\": {\"eps\": np.linspace(0.1, 1.0, 30), \"min_samples\": range(2, 100, 10)},\n",
    "        \"dbscan\": {\"eps\": np.linspace(0.07, 0.1, 30), \"min_samples\": range(2, 20, 10)},\n",
    "        \"hdbscan\": {\"min_cluster_size\": [2, 10, 20, 30, 40, 50, 60, 100]},\n",
    "        \"optics\": {\"min_samples\": range(1, 16), \"max_eps\": [np.inf]}}"
   ]
  },
  {
   "cell_type": "code",
   "execution_count": 3,
   "id": "46d04f04-4efb-47de-a80e-1692bba41af0",
   "metadata": {},
   "outputs": [],
   "source": [
    "# 3d plot\n",
    "def coupled_label_plot(df, umap_plot=True):\n",
    "    mymap = Basemap(llcrnrlon=df[\"LONGITUDE\"].min(), llcrnrlat=df[\"LATITUDE\"].min(), \n",
    "                    urcrnrlon=df[\"LONGITUDE\"].max(), urcrnrlat=df[\"LATITUDE\"].max(), fix_aspect=False)\n",
    "    \n",
    "    fig = plt.figure()\n",
    "    ax = fig.add_subplot(projection='3d')\n",
    "    ax.scatter(df[\"LONGITUDE\"], df[\"LATITUDE\"], df[\"LEV_M\"], c=df[\"color\"], s=0.5, alpha=1, zorder=4)  # df[\"predictions\"]\n",
    "    ax.add_collection3d(mymap.drawcoastlines(linewidth=0.5))\n",
    "    ax.set_box_aspect((np.ptp(df[\"LONGITUDE\"]), np.ptp(df[\"LATITUDE\"]), np.ptp(df[\"LEV_M\"])/50))  # aspect ratio is 1:1:1 in data space\n",
    "    plt.gca().invert_zaxis()\n",
    "    plt.show()\n",
    "\n",
    "    if umap_plot:\n",
    "        fig = plt.figure()\n",
    "        ax = fig.add_subplot(projection='3d')\n",
    "        ax.scatter(df[\"e0\"], df[\"e1\"], df[\"e2\"], c=df[\"color\"], alpha=0.8, zorder=4, s=1)  # , s=s, alpha=1, zorder=4)\n",
    "        plt.show(block=True)"
   ]
  },
  {
   "cell_type": "code",
   "execution_count": 4,
   "id": "eb4c056b-4dfe-484e-82ab-53adaf1e1ba5",
   "metadata": {},
   "outputs": [],
   "source": [
    "@dask.delayed\n",
    "def func(df, hyp_combo, algorithm, iteration, prefix=None):\n",
    "    print(hyp_combo)\n",
    "    filename = f\"out2/scores_{algorithm}_{prefix}_i{iteration}_{'_'.join([str(k)+str(v) for k, v in hyp_combo.items()])}.csv\"\n",
    "    scores = pd.DataFrame(columns=[\"iteration\", \"silhouette\", \"davies_bouldin\", \"calinski\"] + list(hyp_combo.keys()))\n",
    "\n",
    "    if not os.path.isfile(filename):\n",
    "        if algorithm == \"kmeans\":\n",
    "            kmeans = KMeans(**hyp_combo).fit(df)\n",
    "            y_pred = kmeans.predict(df)\n",
    "            # plot_3d(df_in, kmeans_labels)\n",
    "        elif algorithm == \"ward\":\n",
    "            model = AgglomerativeClustering(**hyp_combo).fit(df)\n",
    "            y_pred = model.labels_\n",
    "        elif algorithm == \"dbscan\":\n",
    "            model = DBSCAN(**hyp_combo).fit(df)\n",
    "            y_pred = model.labels_\n",
    "        elif algorithm == \"optics\":\n",
    "            model = OPTICS(**hyp_combo).fit(df)\n",
    "            y_pred = model.labels_\n",
    "        elif algorithm == \"hdbscan\": \n",
    "            model = HDBSCAN(**hyp_combo).fit(df)\n",
    "            y_pred = model.labels_\n",
    "        else:\n",
    "            print(\"Clustering algorithm not implemented\")\n",
    "    \n",
    "        nclusters = len(np.unique(y_pred))\n",
    "        if nclusters > 1:\n",
    "            sil = silhouette_score(df, y_pred)\n",
    "            db = davies_bouldin_score(df, y_pred)\n",
    "            cal = calinski_harabasz_score(df, y_pred)\n",
    "        else:\n",
    "            sil = np.nan\n",
    "            db = np.nan\n",
    "            cal = np.nan\n",
    "    \n",
    "        scores = pd.concat([scores, pd.DataFrame({\"nclusters\": nclusters, \"iteration\": [iteration], \"silhouette\": [sil], \"davies_bouldin\": [db], \"calinski\": [cal]})])\n",
    "        scores.reset_index(inplace=True, drop=True)\n",
    "        scores = scores.combine_first(pd.DataFrame.from_dict([hyp_combo]).set_index(pd.Series(len(scores)-1)))\n",
    "    \n",
    "        scores.to_csv(filename, index=False)\n",
    "\n",
    "    return scores"
   ]
  },
  {
   "cell_type": "code",
   "execution_count": 5,
   "id": "a0e27fb2-0632-44f6-b180-3bd14924e4e7",
   "metadata": {},
   "outputs": [],
   "source": [
    "# @dask.delayed\n",
    "def compute_scores(df, algorithm=\"kmeans\", iterations=10, prefix=None):\n",
    "    hyp_dict = hyps[algorithm]\n",
    "    hyp_combinations = list(it.product(*hyp_dict.values()))\n",
    "\n",
    "    res = []\n",
    "    \n",
    "    for i in range(iterations):\n",
    "        print(i)\n",
    "        for h in hyp_combinations:\n",
    "            print(h)\n",
    "            hyp_combo = dict((b, a) for a, b in zip(h, hyp_dict.keys()))\n",
    "            res.append(func(df=df, hyp_combo=hyp_combo, algorithm=algorithm, iteration=i, prefix=prefix))\n",
    "            \n",
    "    return res"
   ]
  },
  {
   "cell_type": "code",
   "execution_count": 6,
   "id": "ab908747-8b18-4866-8585-7e1f65ddd111",
   "metadata": {},
   "outputs": [],
   "source": [
    "def plot_heatmap(df, x=\"min_samples\", y=\"eps\", color=\"nclusters\", title=\"Sweep of DBSAN\"):\n",
    "    idx = df[y].unique()\n",
    "    cols = df[x].unique()\n",
    "    field = pd.DataFrame(df[color].to_numpy().reshape(len(idx), len(cols)), index=idx, columns=cols)\n",
    "    sns.heatmap(data=field, cbar_kws={'label': color}, annot=True, fmt='g')\n",
    "    plt.xlabel(x)\n",
    "    plt.ylabel(y)\n",
    "    plt.title(title)"
   ]
  },
  {
   "cell_type": "code",
   "execution_count": 7,
   "id": "22a739a1-107f-4626-b6a5-a808e3ffcea3",
   "metadata": {},
   "outputs": [],
   "source": [
    "def plot_coefficients(scores, x=\"n_clusters\", algorithm=\"kmeans\", output_path=\"output/clustering/\", suffix=None, save=True):\n",
    "    plot_score(scores, x, \"silhouette\")  # KMeans: k=10 (close to 1 = best)\n",
    "    if save:\n",
    "        plt.savefig(f\"{output_path}{algorithm}/silhouette_{algorithm}_{x}{suffix}.png\")\n",
    "    plt.show()\n",
    "\n",
    "    plot_score(scores, x, \"davies_bouldin\")  # KMeans: k=10 (closest to minimum (zero)\n",
    "    if save:\n",
    "        plt.savefig(f\"{output_path}{algorithm}/davies_bouldin_{algorithm}_{x}{suffix}.png\")\n",
    "    plt.show()\n",
    "\n",
    "    plot_score(scores, x, \"calinski\")  # KMeans: k= (max is best)\n",
    "    if save:\n",
    "        plt.savefig(f\"{output_path}{algorithm}/calinski_harabasz_{algorithm}_{x}{suffix}.png\")\n",
    "    plt.show()"
   ]
  },
  {
   "cell_type": "code",
   "execution_count": 8,
   "id": "09c7e9a5-b2cc-46d4-8657-84cc7aae8f23",
   "metadata": {},
   "outputs": [],
   "source": [
    "def plot_score(df, x, y):\n",
    "    xmap = {\"n_clusters\": \"Number of clusters\", \"eps\": \"Epsilon\", \"min_samples\": \"Minimum number of samples\"}\n",
    "    df_mean = df.dropna()[[x, y]].groupby(x).mean()\n",
    "    if y == \"silhouette\":\n",
    "        t = \"Silhouette Score\"\n",
    "        optimal_x = df_mean.idxmax().values[0]\n",
    "    elif y == \"davies_bouldin\":\n",
    "        t = \"Davies Bouldin Score\"\n",
    "        optimal_x = df_mean.idxmin().values[0]\n",
    "    elif y == \"calinski\":\n",
    "        t = \"Calinski Harabasz Score\"\n",
    "        optimal_x = df_mean.idxmax().values[0]\n",
    "\n",
    "    # plt.plot(df[x], df[y])\n",
    "    plt.figure()\n",
    "    sns.lineplot(df, x=x, y=y)\n",
    "    plt.ylabel(t)\n",
    "    plt.xlabel(xmap[x])\n",
    "    plt.axvline(optimal_x, color=\"orange\")\n",
    "    plt.tight_layout()"
   ]
  },
  {
   "cell_type": "code",
   "execution_count": 9,
   "id": "cab456f3-3275-473b-a1ba-0a81325a3d46",
   "metadata": {},
   "outputs": [],
   "source": [
    "# load data\n",
    "df_in = pd.read_csv(\"../ocean_clusters_over_time/data/df_knn_3x20.csv\")\n",
    "df = df_in[['P_SILICATE', 'P_OXYGEN', 'P_PHOSPHATE', 'P_NITRATE', 'P_SALINITY', 'P_TEMPERATURE']]"
   ]
  },
  {
   "cell_type": "code",
   "execution_count": 10,
   "id": "bf044068-9034-4ded-90c6-7bd748e7fa68",
   "metadata": {},
   "outputs": [],
   "source": [
    "# scale\n",
    "scaler = MinMaxScaler()\n",
    "df_scaled = scaler.fit_transform(df)"
   ]
  },
  {
   "cell_type": "code",
   "execution_count": 11,
   "id": "fee977b3-0811-405e-a7eb-e633457d7eef",
   "metadata": {
    "scrolled": true
   },
   "outputs": [],
   "source": [
    "# # find a good embedding\n",
    "# for dist, neighbors in list(it.product([0.0, 0.1, 0.2, 0.5, 1.0], [5, 10, 15, 20, 50])):\n",
    "#     # embed\n",
    "#     embedding = umap.UMAP(min_dist=dist, n_components=3, n_neighbors=neighbors).fit_transform(df_scaled)\n",
    "    \n",
    "#     fig = plt.figure(figsize=(7, 6))\n",
    "#     ax = fig.add_subplot(projection='3d')\n",
    "#     ax.scatter(embedding[:, 0], embedding[:, 1], embedding[:, 2], alpha=0.08, s=2, marker=\".\")\n",
    "#     plt.xlabel(\"Axis 0\")\n",
    "#     plt.ylabel(\"Axis 1\")\n",
    "#     ax.set_zlabel(\"Axis 2\")\n",
    "#     plt.title(f\"min_dist={dist}, n_neighbors={neighbors}\")\n",
    "#     plt.tight_layout()\n",
    "#     plt.savefig(f\"output/umap_mindist{dist}_nneighbors{neighbors}.png\")\n",
    "#     plt.show()"
   ]
  },
  {
   "cell_type": "code",
   "execution_count": 12,
   "id": "896db89f-ff5c-4c22-a740-78fea63d2d38",
   "metadata": {},
   "outputs": [
    {
     "ename": "KeyboardInterrupt",
     "evalue": "",
     "output_type": "error",
     "traceback": [
      "\u001b[0;31m---------------------------------------------------------------------------\u001b[0m",
      "\u001b[0;31mKeyboardInterrupt\u001b[0m                         Traceback (most recent call last)",
      "Cell \u001b[0;32mIn[12], line 2\u001b[0m\n\u001b[1;32m      1\u001b[0m \u001b[38;5;66;03m# embed data\u001b[39;00m\n\u001b[0;32m----> 2\u001b[0m embedding \u001b[38;5;241m=\u001b[39m \u001b[43mumap\u001b[49m\u001b[38;5;241;43m.\u001b[39;49m\u001b[43mUMAP\u001b[49m\u001b[43m(\u001b[49m\u001b[43mmin_dist\u001b[49m\u001b[38;5;241;43m=\u001b[39;49m\u001b[38;5;241;43m0.0\u001b[39;49m\u001b[43m,\u001b[49m\u001b[43m \u001b[49m\u001b[43mn_components\u001b[49m\u001b[38;5;241;43m=\u001b[39;49m\u001b[38;5;241;43m3\u001b[39;49m\u001b[43m,\u001b[49m\u001b[43m \u001b[49m\u001b[43mn_neighbors\u001b[49m\u001b[38;5;241;43m=\u001b[39;49m\u001b[38;5;241;43m10\u001b[39;49m\u001b[43m)\u001b[49m\u001b[38;5;241;43m.\u001b[39;49m\u001b[43mfit_transform\u001b[49m\u001b[43m(\u001b[49m\u001b[43mdf_scaled\u001b[49m\u001b[43m)\u001b[49m\n\u001b[1;32m      4\u001b[0m \u001b[38;5;66;03m# visualize embedding\u001b[39;00m\n\u001b[1;32m      5\u001b[0m fig \u001b[38;5;241m=\u001b[39m plt\u001b[38;5;241m.\u001b[39mfigure(figsize\u001b[38;5;241m=\u001b[39m(\u001b[38;5;241m7\u001b[39m, \u001b[38;5;241m6\u001b[39m))\n",
      "File \u001b[0;32m~/.conda/envs/time310/lib/python3.10/site-packages/umap/umap_.py:2887\u001b[0m, in \u001b[0;36mUMAP.fit_transform\u001b[0;34m(self, X, y, force_all_finite)\u001b[0m\n\u001b[1;32m   2851\u001b[0m \u001b[38;5;28;01mdef\u001b[39;00m \u001b[38;5;21mfit_transform\u001b[39m(\u001b[38;5;28mself\u001b[39m, X, y\u001b[38;5;241m=\u001b[39m\u001b[38;5;28;01mNone\u001b[39;00m, force_all_finite\u001b[38;5;241m=\u001b[39m\u001b[38;5;28;01mTrue\u001b[39;00m):\n\u001b[1;32m   2852\u001b[0m \u001b[38;5;250m    \u001b[39m\u001b[38;5;124;03m\"\"\"Fit X into an embedded space and return that transformed\u001b[39;00m\n\u001b[1;32m   2853\u001b[0m \u001b[38;5;124;03m    output.\u001b[39;00m\n\u001b[1;32m   2854\u001b[0m \n\u001b[0;32m   (...)\u001b[0m\n\u001b[1;32m   2885\u001b[0m \u001b[38;5;124;03m        Local radii of data points in the embedding (log-transformed).\u001b[39;00m\n\u001b[1;32m   2886\u001b[0m \u001b[38;5;124;03m    \"\"\"\u001b[39;00m\n\u001b[0;32m-> 2887\u001b[0m     \u001b[38;5;28;43mself\u001b[39;49m\u001b[38;5;241;43m.\u001b[39;49m\u001b[43mfit\u001b[49m\u001b[43m(\u001b[49m\u001b[43mX\u001b[49m\u001b[43m,\u001b[49m\u001b[43m \u001b[49m\u001b[43my\u001b[49m\u001b[43m,\u001b[49m\u001b[43m \u001b[49m\u001b[43mforce_all_finite\u001b[49m\u001b[43m)\u001b[49m\n\u001b[1;32m   2888\u001b[0m     \u001b[38;5;28;01mif\u001b[39;00m \u001b[38;5;28mself\u001b[39m\u001b[38;5;241m.\u001b[39mtransform_mode \u001b[38;5;241m==\u001b[39m \u001b[38;5;124m\"\u001b[39m\u001b[38;5;124membedding\u001b[39m\u001b[38;5;124m\"\u001b[39m:\n\u001b[1;32m   2889\u001b[0m         \u001b[38;5;28;01mif\u001b[39;00m \u001b[38;5;28mself\u001b[39m\u001b[38;5;241m.\u001b[39moutput_dens:\n",
      "File \u001b[0;32m~/.conda/envs/time310/lib/python3.10/site-packages/umap/umap_.py:2780\u001b[0m, in \u001b[0;36mUMAP.fit\u001b[0;34m(self, X, y, force_all_finite)\u001b[0m\n\u001b[1;32m   2776\u001b[0m \u001b[38;5;28;01mif\u001b[39;00m \u001b[38;5;28mself\u001b[39m\u001b[38;5;241m.\u001b[39mtransform_mode \u001b[38;5;241m==\u001b[39m \u001b[38;5;124m\"\u001b[39m\u001b[38;5;124membedding\u001b[39m\u001b[38;5;124m\"\u001b[39m:\n\u001b[1;32m   2777\u001b[0m     epochs \u001b[38;5;241m=\u001b[39m (\n\u001b[1;32m   2778\u001b[0m         \u001b[38;5;28mself\u001b[39m\u001b[38;5;241m.\u001b[39mn_epochs_list \u001b[38;5;28;01mif\u001b[39;00m \u001b[38;5;28mself\u001b[39m\u001b[38;5;241m.\u001b[39mn_epochs_list \u001b[38;5;129;01mis\u001b[39;00m \u001b[38;5;129;01mnot\u001b[39;00m \u001b[38;5;28;01mNone\u001b[39;00m \u001b[38;5;28;01melse\u001b[39;00m \u001b[38;5;28mself\u001b[39m\u001b[38;5;241m.\u001b[39mn_epochs\n\u001b[1;32m   2779\u001b[0m     )\n\u001b[0;32m-> 2780\u001b[0m     \u001b[38;5;28mself\u001b[39m\u001b[38;5;241m.\u001b[39membedding_, aux_data \u001b[38;5;241m=\u001b[39m \u001b[38;5;28;43mself\u001b[39;49m\u001b[38;5;241;43m.\u001b[39;49m\u001b[43m_fit_embed_data\u001b[49m\u001b[43m(\u001b[49m\n\u001b[1;32m   2781\u001b[0m \u001b[43m        \u001b[49m\u001b[38;5;28;43mself\u001b[39;49m\u001b[38;5;241;43m.\u001b[39;49m\u001b[43m_raw_data\u001b[49m\u001b[43m[\u001b[49m\u001b[43mindex\u001b[49m\u001b[43m]\u001b[49m\u001b[43m,\u001b[49m\n\u001b[1;32m   2782\u001b[0m \u001b[43m        \u001b[49m\u001b[43mepochs\u001b[49m\u001b[43m,\u001b[49m\n\u001b[1;32m   2783\u001b[0m \u001b[43m        \u001b[49m\u001b[43minit\u001b[49m\u001b[43m,\u001b[49m\n\u001b[1;32m   2784\u001b[0m \u001b[43m        \u001b[49m\u001b[43mrandom_state\u001b[49m\u001b[43m,\u001b[49m\u001b[43m  \u001b[49m\u001b[38;5;66;43;03m# JH why raw data?\u001b[39;49;00m\n\u001b[1;32m   2785\u001b[0m \u001b[43m    \u001b[49m\u001b[43m)\u001b[49m\n\u001b[1;32m   2787\u001b[0m     \u001b[38;5;28;01mif\u001b[39;00m \u001b[38;5;28mself\u001b[39m\u001b[38;5;241m.\u001b[39mn_epochs_list \u001b[38;5;129;01mis\u001b[39;00m \u001b[38;5;129;01mnot\u001b[39;00m \u001b[38;5;28;01mNone\u001b[39;00m:\n\u001b[1;32m   2788\u001b[0m         \u001b[38;5;28;01mif\u001b[39;00m \u001b[38;5;124m\"\u001b[39m\u001b[38;5;124membedding_list\u001b[39m\u001b[38;5;124m\"\u001b[39m \u001b[38;5;129;01mnot\u001b[39;00m \u001b[38;5;129;01min\u001b[39;00m aux_data:\n",
      "File \u001b[0;32m~/.conda/envs/time310/lib/python3.10/site-packages/umap/umap_.py:2826\u001b[0m, in \u001b[0;36mUMAP._fit_embed_data\u001b[0;34m(self, X, n_epochs, init, random_state)\u001b[0m\n\u001b[1;32m   2822\u001b[0m \u001b[38;5;28;01mdef\u001b[39;00m \u001b[38;5;21m_fit_embed_data\u001b[39m(\u001b[38;5;28mself\u001b[39m, X, n_epochs, init, random_state):\n\u001b[1;32m   2823\u001b[0m \u001b[38;5;250m    \u001b[39m\u001b[38;5;124;03m\"\"\"A method wrapper for simplicial_set_embedding that can be\u001b[39;00m\n\u001b[1;32m   2824\u001b[0m \u001b[38;5;124;03m    replaced by subclasses.\u001b[39;00m\n\u001b[1;32m   2825\u001b[0m \u001b[38;5;124;03m    \"\"\"\u001b[39;00m\n\u001b[0;32m-> 2826\u001b[0m     \u001b[38;5;28;01mreturn\u001b[39;00m \u001b[43msimplicial_set_embedding\u001b[49m\u001b[43m(\u001b[49m\n\u001b[1;32m   2827\u001b[0m \u001b[43m        \u001b[49m\u001b[43mX\u001b[49m\u001b[43m,\u001b[49m\n\u001b[1;32m   2828\u001b[0m \u001b[43m        \u001b[49m\u001b[38;5;28;43mself\u001b[39;49m\u001b[38;5;241;43m.\u001b[39;49m\u001b[43mgraph_\u001b[49m\u001b[43m,\u001b[49m\n\u001b[1;32m   2829\u001b[0m \u001b[43m        \u001b[49m\u001b[38;5;28;43mself\u001b[39;49m\u001b[38;5;241;43m.\u001b[39;49m\u001b[43mn_components\u001b[49m\u001b[43m,\u001b[49m\n\u001b[1;32m   2830\u001b[0m \u001b[43m        \u001b[49m\u001b[38;5;28;43mself\u001b[39;49m\u001b[38;5;241;43m.\u001b[39;49m\u001b[43m_initial_alpha\u001b[49m\u001b[43m,\u001b[49m\n\u001b[1;32m   2831\u001b[0m \u001b[43m        \u001b[49m\u001b[38;5;28;43mself\u001b[39;49m\u001b[38;5;241;43m.\u001b[39;49m\u001b[43m_a\u001b[49m\u001b[43m,\u001b[49m\n\u001b[1;32m   2832\u001b[0m \u001b[43m        \u001b[49m\u001b[38;5;28;43mself\u001b[39;49m\u001b[38;5;241;43m.\u001b[39;49m\u001b[43m_b\u001b[49m\u001b[43m,\u001b[49m\n\u001b[1;32m   2833\u001b[0m \u001b[43m        \u001b[49m\u001b[38;5;28;43mself\u001b[39;49m\u001b[38;5;241;43m.\u001b[39;49m\u001b[43mrepulsion_strength\u001b[49m\u001b[43m,\u001b[49m\n\u001b[1;32m   2834\u001b[0m \u001b[43m        \u001b[49m\u001b[38;5;28;43mself\u001b[39;49m\u001b[38;5;241;43m.\u001b[39;49m\u001b[43mnegative_sample_rate\u001b[49m\u001b[43m,\u001b[49m\n\u001b[1;32m   2835\u001b[0m \u001b[43m        \u001b[49m\u001b[43mn_epochs\u001b[49m\u001b[43m,\u001b[49m\n\u001b[1;32m   2836\u001b[0m \u001b[43m        \u001b[49m\u001b[43minit\u001b[49m\u001b[43m,\u001b[49m\n\u001b[1;32m   2837\u001b[0m \u001b[43m        \u001b[49m\u001b[43mrandom_state\u001b[49m\u001b[43m,\u001b[49m\n\u001b[1;32m   2838\u001b[0m \u001b[43m        \u001b[49m\u001b[38;5;28;43mself\u001b[39;49m\u001b[38;5;241;43m.\u001b[39;49m\u001b[43m_input_distance_func\u001b[49m\u001b[43m,\u001b[49m\n\u001b[1;32m   2839\u001b[0m \u001b[43m        \u001b[49m\u001b[38;5;28;43mself\u001b[39;49m\u001b[38;5;241;43m.\u001b[39;49m\u001b[43m_metric_kwds\u001b[49m\u001b[43m,\u001b[49m\n\u001b[1;32m   2840\u001b[0m \u001b[43m        \u001b[49m\u001b[38;5;28;43mself\u001b[39;49m\u001b[38;5;241;43m.\u001b[39;49m\u001b[43mdensmap\u001b[49m\u001b[43m,\u001b[49m\n\u001b[1;32m   2841\u001b[0m \u001b[43m        \u001b[49m\u001b[38;5;28;43mself\u001b[39;49m\u001b[38;5;241;43m.\u001b[39;49m\u001b[43m_densmap_kwds\u001b[49m\u001b[43m,\u001b[49m\n\u001b[1;32m   2842\u001b[0m \u001b[43m        \u001b[49m\u001b[38;5;28;43mself\u001b[39;49m\u001b[38;5;241;43m.\u001b[39;49m\u001b[43moutput_dens\u001b[49m\u001b[43m,\u001b[49m\n\u001b[1;32m   2843\u001b[0m \u001b[43m        \u001b[49m\u001b[38;5;28;43mself\u001b[39;49m\u001b[38;5;241;43m.\u001b[39;49m\u001b[43m_output_distance_func\u001b[49m\u001b[43m,\u001b[49m\n\u001b[1;32m   2844\u001b[0m \u001b[43m        \u001b[49m\u001b[38;5;28;43mself\u001b[39;49m\u001b[38;5;241;43m.\u001b[39;49m\u001b[43m_output_metric_kwds\u001b[49m\u001b[43m,\u001b[49m\n\u001b[1;32m   2845\u001b[0m \u001b[43m        \u001b[49m\u001b[38;5;28;43mself\u001b[39;49m\u001b[38;5;241;43m.\u001b[39;49m\u001b[43moutput_metric\u001b[49m\u001b[43m \u001b[49m\u001b[38;5;129;43;01min\u001b[39;49;00m\u001b[43m \u001b[49m\u001b[43m(\u001b[49m\u001b[38;5;124;43m\"\u001b[39;49m\u001b[38;5;124;43meuclidean\u001b[39;49m\u001b[38;5;124;43m\"\u001b[39;49m\u001b[43m,\u001b[49m\u001b[43m \u001b[49m\u001b[38;5;124;43m\"\u001b[39;49m\u001b[38;5;124;43ml2\u001b[39;49m\u001b[38;5;124;43m\"\u001b[39;49m\u001b[43m)\u001b[49m\u001b[43m,\u001b[49m\n\u001b[1;32m   2846\u001b[0m \u001b[43m        \u001b[49m\u001b[38;5;28;43mself\u001b[39;49m\u001b[38;5;241;43m.\u001b[39;49m\u001b[43mrandom_state\u001b[49m\u001b[43m \u001b[49m\u001b[38;5;129;43;01mis\u001b[39;49;00m\u001b[43m \u001b[49m\u001b[38;5;28;43;01mNone\u001b[39;49;00m\u001b[43m,\u001b[49m\n\u001b[1;32m   2847\u001b[0m \u001b[43m        \u001b[49m\u001b[38;5;28;43mself\u001b[39;49m\u001b[38;5;241;43m.\u001b[39;49m\u001b[43mverbose\u001b[49m\u001b[43m,\u001b[49m\n\u001b[1;32m   2848\u001b[0m \u001b[43m        \u001b[49m\u001b[43mtqdm_kwds\u001b[49m\u001b[38;5;241;43m=\u001b[39;49m\u001b[38;5;28;43mself\u001b[39;49m\u001b[38;5;241;43m.\u001b[39;49m\u001b[43mtqdm_kwds\u001b[49m\u001b[43m,\u001b[49m\n\u001b[1;32m   2849\u001b[0m \u001b[43m    \u001b[49m\u001b[43m)\u001b[49m\n",
      "File \u001b[0;32m~/.conda/envs/time310/lib/python3.10/site-packages/umap/umap_.py:1106\u001b[0m, in \u001b[0;36msimplicial_set_embedding\u001b[0;34m(data, graph, n_components, initial_alpha, a, b, gamma, negative_sample_rate, n_epochs, init, random_state, metric, metric_kwds, densmap, densmap_kwds, output_dens, output_metric, output_metric_kwds, euclidean_output, parallel, verbose, tqdm_kwds)\u001b[0m\n\u001b[1;32m   1102\u001b[0m     embedding \u001b[38;5;241m=\u001b[39m noisy_scale_coords(\n\u001b[1;32m   1103\u001b[0m         embedding, random_state, max_coord\u001b[38;5;241m=\u001b[39m\u001b[38;5;241m10\u001b[39m, noise\u001b[38;5;241m=\u001b[39m\u001b[38;5;241m0.0001\u001b[39m\n\u001b[1;32m   1104\u001b[0m     )\n\u001b[1;32m   1105\u001b[0m \u001b[38;5;28;01melif\u001b[39;00m \u001b[38;5;28misinstance\u001b[39m(init, \u001b[38;5;28mstr\u001b[39m) \u001b[38;5;129;01mand\u001b[39;00m init \u001b[38;5;241m==\u001b[39m \u001b[38;5;124m\"\u001b[39m\u001b[38;5;124mspectral\u001b[39m\u001b[38;5;124m\"\u001b[39m:\n\u001b[0;32m-> 1106\u001b[0m     embedding \u001b[38;5;241m=\u001b[39m \u001b[43mspectral_layout\u001b[49m\u001b[43m(\u001b[49m\n\u001b[1;32m   1107\u001b[0m \u001b[43m        \u001b[49m\u001b[43mdata\u001b[49m\u001b[43m,\u001b[49m\n\u001b[1;32m   1108\u001b[0m \u001b[43m        \u001b[49m\u001b[43mgraph\u001b[49m\u001b[43m,\u001b[49m\n\u001b[1;32m   1109\u001b[0m \u001b[43m        \u001b[49m\u001b[43mn_components\u001b[49m\u001b[43m,\u001b[49m\n\u001b[1;32m   1110\u001b[0m \u001b[43m        \u001b[49m\u001b[43mrandom_state\u001b[49m\u001b[43m,\u001b[49m\n\u001b[1;32m   1111\u001b[0m \u001b[43m        \u001b[49m\u001b[43mmetric\u001b[49m\u001b[38;5;241;43m=\u001b[39;49m\u001b[43mmetric\u001b[49m\u001b[43m,\u001b[49m\n\u001b[1;32m   1112\u001b[0m \u001b[43m        \u001b[49m\u001b[43mmetric_kwds\u001b[49m\u001b[38;5;241;43m=\u001b[39;49m\u001b[43mmetric_kwds\u001b[49m\u001b[43m,\u001b[49m\n\u001b[1;32m   1113\u001b[0m \u001b[43m    \u001b[49m\u001b[43m)\u001b[49m\n\u001b[1;32m   1114\u001b[0m     \u001b[38;5;66;03m# We add a little noise to avoid local minima for optimization to come\u001b[39;00m\n\u001b[1;32m   1115\u001b[0m     embedding \u001b[38;5;241m=\u001b[39m noisy_scale_coords(\n\u001b[1;32m   1116\u001b[0m         embedding, random_state, max_coord\u001b[38;5;241m=\u001b[39m\u001b[38;5;241m10\u001b[39m, noise\u001b[38;5;241m=\u001b[39m\u001b[38;5;241m0.0001\u001b[39m\n\u001b[1;32m   1117\u001b[0m     )\n",
      "File \u001b[0;32m~/.conda/envs/time310/lib/python3.10/site-packages/umap/spectral.py:304\u001b[0m, in \u001b[0;36mspectral_layout\u001b[0;34m(data, graph, dim, random_state, metric, metric_kwds, tol, maxiter)\u001b[0m\n\u001b[1;32m    263\u001b[0m \u001b[38;5;28;01mdef\u001b[39;00m \u001b[38;5;21mspectral_layout\u001b[39m(\n\u001b[1;32m    264\u001b[0m     data,\n\u001b[1;32m    265\u001b[0m     graph,\n\u001b[0;32m   (...)\u001b[0m\n\u001b[1;32m    271\u001b[0m     maxiter\u001b[38;5;241m=\u001b[39m\u001b[38;5;241m0\u001b[39m\n\u001b[1;32m    272\u001b[0m ):\n\u001b[1;32m    273\u001b[0m \u001b[38;5;250m    \u001b[39m\u001b[38;5;124;03m\"\"\"\u001b[39;00m\n\u001b[1;32m    274\u001b[0m \u001b[38;5;124;03m    Given a graph compute the spectral embedding of the graph. This is\u001b[39;00m\n\u001b[1;32m    275\u001b[0m \u001b[38;5;124;03m    simply the eigenvectors of the laplacian of the graph. Here we use the\u001b[39;00m\n\u001b[0;32m   (...)\u001b[0m\n\u001b[1;32m    302\u001b[0m \u001b[38;5;124;03m        The spectral embedding of the graph.\u001b[39;00m\n\u001b[1;32m    303\u001b[0m \u001b[38;5;124;03m    \"\"\"\u001b[39;00m\n\u001b[0;32m--> 304\u001b[0m     \u001b[38;5;28;01mreturn\u001b[39;00m \u001b[43m_spectral_layout\u001b[49m\u001b[43m(\u001b[49m\n\u001b[1;32m    305\u001b[0m \u001b[43m        \u001b[49m\u001b[43mdata\u001b[49m\u001b[38;5;241;43m=\u001b[39;49m\u001b[43mdata\u001b[49m\u001b[43m,\u001b[49m\n\u001b[1;32m    306\u001b[0m \u001b[43m        \u001b[49m\u001b[43mgraph\u001b[49m\u001b[38;5;241;43m=\u001b[39;49m\u001b[43mgraph\u001b[49m\u001b[43m,\u001b[49m\n\u001b[1;32m    307\u001b[0m \u001b[43m        \u001b[49m\u001b[43mdim\u001b[49m\u001b[38;5;241;43m=\u001b[39;49m\u001b[43mdim\u001b[49m\u001b[43m,\u001b[49m\n\u001b[1;32m    308\u001b[0m \u001b[43m        \u001b[49m\u001b[43mrandom_state\u001b[49m\u001b[38;5;241;43m=\u001b[39;49m\u001b[43mrandom_state\u001b[49m\u001b[43m,\u001b[49m\n\u001b[1;32m    309\u001b[0m \u001b[43m        \u001b[49m\u001b[43mmetric\u001b[49m\u001b[38;5;241;43m=\u001b[39;49m\u001b[43mmetric\u001b[49m\u001b[43m,\u001b[49m\n\u001b[1;32m    310\u001b[0m \u001b[43m        \u001b[49m\u001b[43mmetric_kwds\u001b[49m\u001b[38;5;241;43m=\u001b[39;49m\u001b[43mmetric_kwds\u001b[49m\u001b[43m,\u001b[49m\n\u001b[1;32m    311\u001b[0m \u001b[43m        \u001b[49m\u001b[43minit\u001b[49m\u001b[38;5;241;43m=\u001b[39;49m\u001b[38;5;124;43m\"\u001b[39;49m\u001b[38;5;124;43mrandom\u001b[39;49m\u001b[38;5;124;43m\"\u001b[39;49m\u001b[43m,\u001b[49m\n\u001b[1;32m    312\u001b[0m \u001b[43m        \u001b[49m\u001b[43mtol\u001b[49m\u001b[38;5;241;43m=\u001b[39;49m\u001b[43mtol\u001b[49m\u001b[43m,\u001b[49m\n\u001b[1;32m    313\u001b[0m \u001b[43m        \u001b[49m\u001b[43mmaxiter\u001b[49m\u001b[38;5;241;43m=\u001b[39;49m\u001b[43mmaxiter\u001b[49m\n\u001b[1;32m    314\u001b[0m \u001b[43m    \u001b[49m\u001b[43m)\u001b[49m\n",
      "File \u001b[0;32m~/.conda/envs/time310/lib/python3.10/site-packages/umap/spectral.py:467\u001b[0m, in \u001b[0;36m_spectral_layout\u001b[0;34m(data, graph, dim, random_state, metric, metric_kwds, init, method, tol, maxiter)\u001b[0m\n\u001b[1;32m    464\u001b[0m n_components, labels \u001b[38;5;241m=\u001b[39m scipy\u001b[38;5;241m.\u001b[39msparse\u001b[38;5;241m.\u001b[39mcsgraph\u001b[38;5;241m.\u001b[39mconnected_components(graph)\n\u001b[1;32m    466\u001b[0m \u001b[38;5;28;01mif\u001b[39;00m n_components \u001b[38;5;241m>\u001b[39m \u001b[38;5;241m1\u001b[39m:\n\u001b[0;32m--> 467\u001b[0m     \u001b[38;5;28;01mreturn\u001b[39;00m \u001b[43mmulti_component_layout\u001b[49m\u001b[43m(\u001b[49m\n\u001b[1;32m    468\u001b[0m \u001b[43m        \u001b[49m\u001b[43mdata\u001b[49m\u001b[43m,\u001b[49m\n\u001b[1;32m    469\u001b[0m \u001b[43m        \u001b[49m\u001b[43mgraph\u001b[49m\u001b[43m,\u001b[49m\n\u001b[1;32m    470\u001b[0m \u001b[43m        \u001b[49m\u001b[43mn_components\u001b[49m\u001b[43m,\u001b[49m\n\u001b[1;32m    471\u001b[0m \u001b[43m        \u001b[49m\u001b[43mlabels\u001b[49m\u001b[43m,\u001b[49m\n\u001b[1;32m    472\u001b[0m \u001b[43m        \u001b[49m\u001b[43mdim\u001b[49m\u001b[43m,\u001b[49m\n\u001b[1;32m    473\u001b[0m \u001b[43m        \u001b[49m\u001b[43mrandom_state\u001b[49m\u001b[43m,\u001b[49m\n\u001b[1;32m    474\u001b[0m \u001b[43m        \u001b[49m\u001b[43mmetric\u001b[49m\u001b[38;5;241;43m=\u001b[39;49m\u001b[43mmetric\u001b[49m\u001b[43m,\u001b[49m\n\u001b[1;32m    475\u001b[0m \u001b[43m        \u001b[49m\u001b[43mmetric_kwds\u001b[49m\u001b[38;5;241;43m=\u001b[39;49m\u001b[43mmetric_kwds\u001b[49m\u001b[43m,\u001b[49m\n\u001b[1;32m    476\u001b[0m \u001b[43m    \u001b[49m\u001b[43m)\u001b[49m\n\u001b[1;32m    478\u001b[0m sqrt_deg \u001b[38;5;241m=\u001b[39m np\u001b[38;5;241m.\u001b[39msqrt(np\u001b[38;5;241m.\u001b[39masarray(graph\u001b[38;5;241m.\u001b[39msum(axis\u001b[38;5;241m=\u001b[39m\u001b[38;5;241m0\u001b[39m))\u001b[38;5;241m.\u001b[39msqueeze())\n\u001b[1;32m    479\u001b[0m \u001b[38;5;66;03m# standard Laplacian\u001b[39;00m\n\u001b[1;32m    480\u001b[0m \u001b[38;5;66;03m# D = scipy.sparse.spdiags(diag_data, 0, graph.shape[0], graph.shape[0])\u001b[39;00m\n\u001b[1;32m    481\u001b[0m \u001b[38;5;66;03m# L = D - graph\u001b[39;00m\n\u001b[1;32m    482\u001b[0m \u001b[38;5;66;03m# Normalized Laplacian\u001b[39;00m\n",
      "File \u001b[0;32m~/.conda/envs/time310/lib/python3.10/site-packages/umap/spectral.py:243\u001b[0m, in \u001b[0;36mmulti_component_layout\u001b[0;34m(data, graph, n_components, component_labels, dim, random_state, metric, metric_kwds, init, tol, maxiter)\u001b[0m\n\u001b[1;32m    234\u001b[0m     result[component_labels \u001b[38;5;241m==\u001b[39m label] \u001b[38;5;241m=\u001b[39m (\n\u001b[1;32m    235\u001b[0m         random_state\u001b[38;5;241m.\u001b[39muniform(\n\u001b[1;32m    236\u001b[0m             low\u001b[38;5;241m=\u001b[39m\u001b[38;5;241m-\u001b[39mdata_range,\n\u001b[0;32m   (...)\u001b[0m\n\u001b[1;32m    240\u001b[0m         \u001b[38;5;241m+\u001b[39m meta_embedding[label]\n\u001b[1;32m    241\u001b[0m     )\n\u001b[1;32m    242\u001b[0m \u001b[38;5;28;01melse\u001b[39;00m:\n\u001b[0;32m--> 243\u001b[0m     component_embedding \u001b[38;5;241m=\u001b[39m \u001b[43m_spectral_layout\u001b[49m\u001b[43m(\u001b[49m\n\u001b[1;32m    244\u001b[0m \u001b[43m        \u001b[49m\u001b[43mdata\u001b[49m\u001b[38;5;241;43m=\u001b[39;49m\u001b[38;5;28;43;01mNone\u001b[39;49;00m\u001b[43m,\u001b[49m\n\u001b[1;32m    245\u001b[0m \u001b[43m        \u001b[49m\u001b[43mgraph\u001b[49m\u001b[38;5;241;43m=\u001b[39;49m\u001b[43mcomponent_graph\u001b[49m\u001b[43m,\u001b[49m\n\u001b[1;32m    246\u001b[0m \u001b[43m        \u001b[49m\u001b[43mdim\u001b[49m\u001b[38;5;241;43m=\u001b[39;49m\u001b[43mdim\u001b[49m\u001b[43m,\u001b[49m\n\u001b[1;32m    247\u001b[0m \u001b[43m        \u001b[49m\u001b[43mrandom_state\u001b[49m\u001b[38;5;241;43m=\u001b[39;49m\u001b[43mrandom_state\u001b[49m\u001b[43m,\u001b[49m\n\u001b[1;32m    248\u001b[0m \u001b[43m        \u001b[49m\u001b[43mmetric\u001b[49m\u001b[38;5;241;43m=\u001b[39;49m\u001b[43mmetric\u001b[49m\u001b[43m,\u001b[49m\n\u001b[1;32m    249\u001b[0m \u001b[43m        \u001b[49m\u001b[43mmetric_kwds\u001b[49m\u001b[38;5;241;43m=\u001b[39;49m\u001b[43mmetric_kwds\u001b[49m\u001b[43m,\u001b[49m\n\u001b[1;32m    250\u001b[0m \u001b[43m        \u001b[49m\u001b[43minit\u001b[49m\u001b[38;5;241;43m=\u001b[39;49m\u001b[43minit\u001b[49m\u001b[43m,\u001b[49m\n\u001b[1;32m    251\u001b[0m \u001b[43m        \u001b[49m\u001b[43mtol\u001b[49m\u001b[38;5;241;43m=\u001b[39;49m\u001b[43mtol\u001b[49m\u001b[43m,\u001b[49m\n\u001b[1;32m    252\u001b[0m \u001b[43m        \u001b[49m\u001b[43mmaxiter\u001b[49m\u001b[38;5;241;43m=\u001b[39;49m\u001b[43mmaxiter\u001b[49m\n\u001b[1;32m    253\u001b[0m \u001b[43m    \u001b[49m\u001b[43m)\u001b[49m\n\u001b[1;32m    254\u001b[0m     expansion \u001b[38;5;241m=\u001b[39m data_range \u001b[38;5;241m/\u001b[39m np\u001b[38;5;241m.\u001b[39mmax(np\u001b[38;5;241m.\u001b[39mabs(component_embedding))\n\u001b[1;32m    255\u001b[0m     component_embedding \u001b[38;5;241m*\u001b[39m\u001b[38;5;241m=\u001b[39m expansion\n",
      "File \u001b[0;32m~/.conda/envs/time310/lib/python3.10/site-packages/umap/spectral.py:521\u001b[0m, in \u001b[0;36m_spectral_layout\u001b[0;34m(data, graph, dim, random_state, metric, metric_kwds, init, method, tol, maxiter)\u001b[0m\n\u001b[1;32m    518\u001b[0m X[:, \u001b[38;5;241m0\u001b[39m] \u001b[38;5;241m=\u001b[39m sqrt_deg \u001b[38;5;241m/\u001b[39m np\u001b[38;5;241m.\u001b[39mlinalg\u001b[38;5;241m.\u001b[39mnorm(sqrt_deg)\n\u001b[1;32m    520\u001b[0m \u001b[38;5;28;01mif\u001b[39;00m method \u001b[38;5;241m==\u001b[39m \u001b[38;5;124m\"\u001b[39m\u001b[38;5;124meigsh\u001b[39m\u001b[38;5;124m\"\u001b[39m:\n\u001b[0;32m--> 521\u001b[0m     eigenvalues, eigenvectors \u001b[38;5;241m=\u001b[39m \u001b[43mscipy\u001b[49m\u001b[38;5;241;43m.\u001b[39;49m\u001b[43msparse\u001b[49m\u001b[38;5;241;43m.\u001b[39;49m\u001b[43mlinalg\u001b[49m\u001b[38;5;241;43m.\u001b[39;49m\u001b[43meigsh\u001b[49m\u001b[43m(\u001b[49m\n\u001b[1;32m    522\u001b[0m \u001b[43m        \u001b[49m\u001b[43mL\u001b[49m\u001b[43m,\u001b[49m\n\u001b[1;32m    523\u001b[0m \u001b[43m        \u001b[49m\u001b[43mk\u001b[49m\u001b[43m,\u001b[49m\n\u001b[1;32m    524\u001b[0m \u001b[43m        \u001b[49m\u001b[43mwhich\u001b[49m\u001b[38;5;241;43m=\u001b[39;49m\u001b[38;5;124;43m\"\u001b[39;49m\u001b[38;5;124;43mSM\u001b[39;49m\u001b[38;5;124;43m\"\u001b[39;49m\u001b[43m,\u001b[49m\n\u001b[1;32m    525\u001b[0m \u001b[43m        \u001b[49m\u001b[43mncv\u001b[49m\u001b[38;5;241;43m=\u001b[39;49m\u001b[43mnum_lanczos_vectors\u001b[49m\u001b[43m,\u001b[49m\n\u001b[1;32m    526\u001b[0m \u001b[43m        \u001b[49m\u001b[43mtol\u001b[49m\u001b[38;5;241;43m=\u001b[39;49m\u001b[43mtol\u001b[49m\u001b[43m \u001b[49m\u001b[38;5;129;43;01mor\u001b[39;49;00m\u001b[43m \u001b[49m\u001b[38;5;241;43m1e-4\u001b[39;49m\u001b[43m,\u001b[49m\n\u001b[1;32m    527\u001b[0m \u001b[43m        \u001b[49m\u001b[43mv0\u001b[49m\u001b[38;5;241;43m=\u001b[39;49m\u001b[43mnp\u001b[49m\u001b[38;5;241;43m.\u001b[39;49m\u001b[43mones\u001b[49m\u001b[43m(\u001b[49m\u001b[43mL\u001b[49m\u001b[38;5;241;43m.\u001b[39;49m\u001b[43mshape\u001b[49m\u001b[43m[\u001b[49m\u001b[38;5;241;43m0\u001b[39;49m\u001b[43m]\u001b[49m\u001b[43m)\u001b[49m\u001b[43m,\u001b[49m\n\u001b[1;32m    528\u001b[0m \u001b[43m        \u001b[49m\u001b[43mmaxiter\u001b[49m\u001b[38;5;241;43m=\u001b[39;49m\u001b[43mmaxiter\u001b[49m\u001b[43m \u001b[49m\u001b[38;5;129;43;01mor\u001b[39;49;00m\u001b[43m \u001b[49m\u001b[43mgraph\u001b[49m\u001b[38;5;241;43m.\u001b[39;49m\u001b[43mshape\u001b[49m\u001b[43m[\u001b[49m\u001b[38;5;241;43m0\u001b[39;49m\u001b[43m]\u001b[49m\u001b[43m \u001b[49m\u001b[38;5;241;43m*\u001b[39;49m\u001b[43m \u001b[49m\u001b[38;5;241;43m5\u001b[39;49m\u001b[43m,\u001b[49m\n\u001b[1;32m    529\u001b[0m \u001b[43m    \u001b[49m\u001b[43m)\u001b[49m\n\u001b[1;32m    530\u001b[0m \u001b[38;5;28;01melif\u001b[39;00m method \u001b[38;5;241m==\u001b[39m \u001b[38;5;124m\"\u001b[39m\u001b[38;5;124mlobpcg\u001b[39m\u001b[38;5;124m\"\u001b[39m:\n\u001b[1;32m    531\u001b[0m     \u001b[38;5;28;01mwith\u001b[39;00m warnings\u001b[38;5;241m.\u001b[39mcatch_warnings():\n",
      "File \u001b[0;32m~/.conda/envs/time310/lib/python3.10/site-packages/scipy/sparse/linalg/_eigen/arpack/arpack.py:1697\u001b[0m, in \u001b[0;36meigsh\u001b[0;34m(A, k, M, sigma, which, v0, ncv, maxiter, tol, return_eigenvectors, Minv, OPinv, mode)\u001b[0m\n\u001b[1;32m   1695\u001b[0m \u001b[38;5;28;01mwith\u001b[39;00m _ARPACK_LOCK:\n\u001b[1;32m   1696\u001b[0m     \u001b[38;5;28;01mwhile\u001b[39;00m \u001b[38;5;129;01mnot\u001b[39;00m params\u001b[38;5;241m.\u001b[39mconverged:\n\u001b[0;32m-> 1697\u001b[0m         \u001b[43mparams\u001b[49m\u001b[38;5;241;43m.\u001b[39;49m\u001b[43miterate\u001b[49m\u001b[43m(\u001b[49m\u001b[43m)\u001b[49m\n\u001b[1;32m   1699\u001b[0m     \u001b[38;5;28;01mreturn\u001b[39;00m params\u001b[38;5;241m.\u001b[39mextract(return_eigenvectors)\n",
      "File \u001b[0;32m~/.conda/envs/time310/lib/python3.10/site-packages/scipy/sparse/linalg/_eigen/arpack/arpack.py:537\u001b[0m, in \u001b[0;36m_SymmetricArpackParams.iterate\u001b[0;34m(self)\u001b[0m\n\u001b[1;32m    535\u001b[0m \u001b[38;5;28;01mdef\u001b[39;00m \u001b[38;5;21miterate\u001b[39m(\u001b[38;5;28mself\u001b[39m):\n\u001b[1;32m    536\u001b[0m     \u001b[38;5;28mself\u001b[39m\u001b[38;5;241m.\u001b[39mido, \u001b[38;5;28mself\u001b[39m\u001b[38;5;241m.\u001b[39mtol, \u001b[38;5;28mself\u001b[39m\u001b[38;5;241m.\u001b[39mresid, \u001b[38;5;28mself\u001b[39m\u001b[38;5;241m.\u001b[39mv, \u001b[38;5;28mself\u001b[39m\u001b[38;5;241m.\u001b[39miparam, \u001b[38;5;28mself\u001b[39m\u001b[38;5;241m.\u001b[39mipntr, \u001b[38;5;28mself\u001b[39m\u001b[38;5;241m.\u001b[39minfo \u001b[38;5;241m=\u001b[39m \\\n\u001b[0;32m--> 537\u001b[0m         \u001b[38;5;28;43mself\u001b[39;49m\u001b[38;5;241;43m.\u001b[39;49m\u001b[43m_arpack_solver\u001b[49m\u001b[43m(\u001b[49m\u001b[38;5;28;43mself\u001b[39;49m\u001b[38;5;241;43m.\u001b[39;49m\u001b[43mido\u001b[49m\u001b[43m,\u001b[49m\u001b[43m \u001b[49m\u001b[38;5;28;43mself\u001b[39;49m\u001b[38;5;241;43m.\u001b[39;49m\u001b[43mbmat\u001b[49m\u001b[43m,\u001b[49m\u001b[43m \u001b[49m\u001b[38;5;28;43mself\u001b[39;49m\u001b[38;5;241;43m.\u001b[39;49m\u001b[43mwhich\u001b[49m\u001b[43m,\u001b[49m\u001b[43m \u001b[49m\u001b[38;5;28;43mself\u001b[39;49m\u001b[38;5;241;43m.\u001b[39;49m\u001b[43mk\u001b[49m\u001b[43m,\u001b[49m\n\u001b[1;32m    538\u001b[0m \u001b[43m                            \u001b[49m\u001b[38;5;28;43mself\u001b[39;49m\u001b[38;5;241;43m.\u001b[39;49m\u001b[43mtol\u001b[49m\u001b[43m,\u001b[49m\u001b[43m \u001b[49m\u001b[38;5;28;43mself\u001b[39;49m\u001b[38;5;241;43m.\u001b[39;49m\u001b[43mresid\u001b[49m\u001b[43m,\u001b[49m\u001b[43m \u001b[49m\u001b[38;5;28;43mself\u001b[39;49m\u001b[38;5;241;43m.\u001b[39;49m\u001b[43mv\u001b[49m\u001b[43m,\u001b[49m\u001b[43m \u001b[49m\u001b[38;5;28;43mself\u001b[39;49m\u001b[38;5;241;43m.\u001b[39;49m\u001b[43miparam\u001b[49m\u001b[43m,\u001b[49m\n\u001b[1;32m    539\u001b[0m \u001b[43m                            \u001b[49m\u001b[38;5;28;43mself\u001b[39;49m\u001b[38;5;241;43m.\u001b[39;49m\u001b[43mipntr\u001b[49m\u001b[43m,\u001b[49m\u001b[43m \u001b[49m\u001b[38;5;28;43mself\u001b[39;49m\u001b[38;5;241;43m.\u001b[39;49m\u001b[43mworkd\u001b[49m\u001b[43m,\u001b[49m\u001b[43m \u001b[49m\u001b[38;5;28;43mself\u001b[39;49m\u001b[38;5;241;43m.\u001b[39;49m\u001b[43mworkl\u001b[49m\u001b[43m,\u001b[49m\u001b[43m \u001b[49m\u001b[38;5;28;43mself\u001b[39;49m\u001b[38;5;241;43m.\u001b[39;49m\u001b[43minfo\u001b[49m\u001b[43m)\u001b[49m\n\u001b[1;32m    541\u001b[0m     xslice \u001b[38;5;241m=\u001b[39m \u001b[38;5;28mslice\u001b[39m(\u001b[38;5;28mself\u001b[39m\u001b[38;5;241m.\u001b[39mipntr[\u001b[38;5;241m0\u001b[39m] \u001b[38;5;241m-\u001b[39m \u001b[38;5;241m1\u001b[39m, \u001b[38;5;28mself\u001b[39m\u001b[38;5;241m.\u001b[39mipntr[\u001b[38;5;241m0\u001b[39m] \u001b[38;5;241m-\u001b[39m \u001b[38;5;241m1\u001b[39m \u001b[38;5;241m+\u001b[39m \u001b[38;5;28mself\u001b[39m\u001b[38;5;241m.\u001b[39mn)\n\u001b[1;32m    542\u001b[0m     yslice \u001b[38;5;241m=\u001b[39m \u001b[38;5;28mslice\u001b[39m(\u001b[38;5;28mself\u001b[39m\u001b[38;5;241m.\u001b[39mipntr[\u001b[38;5;241m1\u001b[39m] \u001b[38;5;241m-\u001b[39m \u001b[38;5;241m1\u001b[39m, \u001b[38;5;28mself\u001b[39m\u001b[38;5;241m.\u001b[39mipntr[\u001b[38;5;241m1\u001b[39m] \u001b[38;5;241m-\u001b[39m \u001b[38;5;241m1\u001b[39m \u001b[38;5;241m+\u001b[39m \u001b[38;5;28mself\u001b[39m\u001b[38;5;241m.\u001b[39mn)\n",
      "\u001b[0;31mKeyboardInterrupt\u001b[0m: "
     ]
    }
   ],
   "source": [
    "# embed data\n",
    "embedding = umap.UMAP(min_dist=0.0, n_components=3, n_neighbors=10).fit_transform(df_scaled)\n",
    "\n",
    "# visualize embedding\n",
    "fig = plt.figure(figsize=(7, 6))\n",
    "ax = fig.add_subplot(projection='3d')\n",
    "ax.scatter(embedding[:, 0], embedding[:, 1], embedding[:, 2], alpha=0.08, s=2, marker=\".\")\n",
    "plt.xlabel(\"Axis 0\")\n",
    "plt.ylabel(\"Axis 1\")\n",
    "ax.set_zlabel(\"Axis 2\")\n",
    "plt.tight_layout()\n",
    "plt.savefig(\"output/umap_space.png\")\n",
    "plt.show()"
   ]
  },
  {
   "cell_type": "markdown",
   "id": "9c6378ce-0aff-4311-b02f-c2b7c9655c14",
   "metadata": {},
   "source": [
    "# DBSCAN tuning"
   ]
  },
  {
   "cell_type": "code",
   "execution_count": null,
   "id": "df9c8233-a628-4245-b287-e4f32e515f3e",
   "metadata": {},
   "outputs": [],
   "source": [
    "os.getcwd()"
   ]
  },
  {
   "cell_type": "code",
   "execution_count": null,
   "id": "641d01d6-4fc3-4c23-978a-145d421594d7",
   "metadata": {},
   "outputs": [],
   "source": [
    "from dask.distributed import Client\n",
    "\n",
    "client = Client(n_workers=8)\n",
    "client"
   ]
  },
  {
   "cell_type": "code",
   "execution_count": null,
   "id": "148eb938-f9c7-48ca-8049-13fd592ec4f8",
   "metadata": {
    "scrolled": true
   },
   "outputs": [],
   "source": [
    "dbscan_scores = compute_scores(df=embedding, algorithm=\"dbscan\", iterations=1)"
   ]
  },
  {
   "cell_type": "code",
   "execution_count": null,
   "id": "a521b75c-6978-4051-93e1-318bf14437f2",
   "metadata": {
    "scrolled": true
   },
   "outputs": [],
   "source": [
    "res = dask.compute(*dbscan_scores)"
   ]
  },
  {
   "cell_type": "code",
   "execution_count": null,
   "id": "01f484ae-d38f-430c-bbb0-5a4a9ed3fcbc",
   "metadata": {
    "scrolled": true
   },
   "outputs": [],
   "source": [
    "# import glob\n",
    "# res = []\n",
    "# for f in glob.glob(\"out2/scores_dbscan_i*_eps*_min_samples*.csv\"):\n",
    "#     a = pd.read_csv(f)\n",
    "#     res.append(a)"
   ]
  },
  {
   "cell_type": "code",
   "execution_count": null,
   "id": "7b83df29-8b1e-45be-a287-1e4df0c17ee1",
   "metadata": {},
   "outputs": [],
   "source": [
    "res = pd.concat(res)"
   ]
  },
  {
   "cell_type": "code",
   "execution_count": null,
   "id": "57c8c508-add5-48d4-b568-1b93689198dc",
   "metadata": {},
   "outputs": [],
   "source": [
    "# res.to_csv(\"\", index=False)"
   ]
  },
  {
   "cell_type": "code",
   "execution_count": null,
   "id": "c665a707-ae89-47b9-aaf3-81dfb2a7440c",
   "metadata": {},
   "outputs": [],
   "source": [
    "# plot_heatmap(res.sort_values([\"eps\", \"min_samples\"]), x=\"min_samples\", y=\"eps\", color=\"nclusters\", title=\"Sweep of DBSCAN (on original data)\")\n",
    "# plt.show()"
   ]
  },
  {
   "cell_type": "code",
   "execution_count": null,
   "id": "cabe0d30-bd6c-49e8-8fb9-04975f07b87b",
   "metadata": {
    "scrolled": true
   },
   "outputs": [],
   "source": [
    "# plot scores\n",
    "res[\"eps\"] = res[\"eps\"].astype(float)\n",
    "res[\"iteration\"] = res[\"iteration\"].astype(float)\n",
    "res[\"min_samples\"] = res[\"min_samples\"].astype(float)\n",
    "res_i = res.groupby([\"eps\", \"min_samples\"]).mean().drop(\"iteration\", axis=1).reset_index()\n",
    "\n",
    "plot_heatmap(res_i, x=\"min_samples\", y=\"eps\", color=\"nclusters\", title=\"Sweep of DBSCAN (on original data)\")\n",
    "plt.show()\n",
    "\n",
    "plot_coefficients(res, x=\"eps\", algorithm=\"dbscan\", save=False)\n",
    "plot_coefficients(res, x=\"min_samples\", algorithm=\"dbscan\", save=False)\n",
    "\n",
    "# #for e, m in [(0.110345, 2), (0.1, 3), (0.5, 5), (0.12413793103448277, 6)]:\n",
    "# dlabels = df[\"label\"] # compute_clusters(df_scaled, df_in, algorithm=\"dbscan\", hyps={\"eps\": e, \"min_samples\": m}, spec=\"original_data\")\n",
    "# print(f\"Number of clusters: {len(np.unique(dlabels))}\")\n",
    "# coupled_label_plot(df) # , dlabels, embedding)"
   ]
  },
  {
   "cell_type": "code",
   "execution_count": null,
   "id": "34092860-a052-4280-86b5-17f1d184b16f",
   "metadata": {},
   "outputs": [],
   "source": [
    "hyps[\"dbscan\"]"
   ]
  },
  {
   "cell_type": "code",
   "execution_count": null,
   "id": "6827c501-5603-489a-85b3-a1d0fcfeff36",
   "metadata": {},
   "outputs": [],
   "source": []
  },
  {
   "cell_type": "markdown",
   "id": "0dda8f78-809d-4ddd-8a1b-ebfe9cce91d7",
   "metadata": {},
   "source": [
    "## Compute optimal clustering"
   ]
  },
  {
   "cell_type": "code",
   "execution_count": null,
   "id": "1dece8b8-a82d-489c-aaf3-6aa26dc91217",
   "metadata": {},
   "outputs": [],
   "source": [
    "model = DBSCAN(eps= 0.085, min_samples=10)\n",
    "model.fit(embedding)"
   ]
  },
  {
   "cell_type": "code",
   "execution_count": null,
   "id": "a742646a-afa9-49f7-9d23-ebb26620640f",
   "metadata": {},
   "outputs": [],
   "source": [
    "df_in[\"label\"] = model.labels_\n",
    "df_in[\"LONGITUDE\"] = np.arcsin(df_in[\"LONGITUDE0\"])/(2*np.pi)*360*(-1)\n",
    "\n",
    "df_in[\"e0\"] = embedding[:, 0]\n",
    "df_in[\"e1\"] = embedding[:, 1]\n",
    "df_in[\"e2\"] = embedding[:, 2]"
   ]
  },
  {
   "cell_type": "code",
   "execution_count": null,
   "id": "97c3a625-55d8-4269-bd33-5434bb01711a",
   "metadata": {},
   "outputs": [],
   "source": [
    "unique_labels = np.sort(np.unique(df_in[\"label\"]))\n",
    "colors = glasbey.create_palette(palette_size=len(unique_labels))\n",
    "color_map = {label: color for label, color in zip(unique_labels, colors)}\n",
    "df_in[\"color\"] = df_in[\"label\"].map(lambda x: color_map[x])\n",
    "df_in.loc[df_in[\"label\"] == -1, \"color\"] = \"#000000\"  # color noise in black\n",
    "df_dropped = df_in[df_in[\"label\"] != -1]\n",
    "\n",
    "mymap = Basemap(llcrnrlon=df_in[\"LONGITUDE\"].min(), llcrnrlat=df_in[\"LATITUDE\"].min(), \n",
    "                urcrnrlon=df_in[\"LONGITUDE\"].max(), urcrnrlat=df_in[\"LATITUDE\"].max(), fix_aspect=False)\n",
    "\n",
    "for year in df_in[\"year\"].unique():\n",
    "    temp = df_dropped[df_dropped[\"year\"] == year]\n",
    "    \n",
    "    fig = plt.figure(figsize=(8,6))\n",
    "    ax = fig.add_subplot(projection='3d')\n",
    "    ax.scatter(temp[\"LONGITUDE\"], temp[\"LATITUDE\"], temp[\"LEV_M\"], color=temp[\"color\"], s=2, alpha=1, marker=\".\")\n",
    "    ax.add_collection3d(mymap.drawcoastlines(linewidth=0.5))\n",
    "    ax.set_box_aspect((np.ptp(temp[\"LONGITUDE\"]), np.ptp(temp[\"LATITUDE\"]),\n",
    "                       np.ptp(temp[\"LEV_M\"]) / 50))  # aspect ratio is 1:1:1 in data space\n",
    "    plt.gca().invert_zaxis()\n",
    "    plt.savefig(f\"dbscan_{year}.png\")\n",
    "    plt.show()\n",
    "    \n",
    "    fig = plt.figure(figsize=(8,5))\n",
    "    ax = fig.add_subplot(projection='3d')\n",
    "    ax.scatter(temp[\"e0\"], temp[\"e1\"], temp[\"e2\"], c=temp[\"color\"], alpha=0.8, s=1)  # , s=s, alpha=1, zorder=4)\n",
    "    plt.savefig(f\"dbscan_umap_{year}.png\")\n",
    "    plt.show()"
   ]
  },
  {
   "cell_type": "code",
   "execution_count": null,
   "id": "82c7d9b9-24f3-47a3-b7a7-bd9185f18ed4",
   "metadata": {},
   "outputs": [],
   "source": [
    "# viz per depth\n",
    "plt.rcParams[\"figure.figsize\"] = (12, 6)\n",
    "\n",
    "for year in df_in[\"year\"].unique():\n",
    "    fig, axs = plt.subplots(nrows=3, ncols=4)\n",
    "    axs = axs.flatten()\n",
    "    \n",
    "    for i, depth in enumerate(df_in[\"LEV_M\"].unique()):\n",
    "        temp = df_in[(df_in[\"LEV_M\"] == depth) & (df_in[\"year\"] == year)]\n",
    "        axs[i].scatter(temp[\"LONGITUDE\"], temp[\"LATITUDE\"], c=temp[\"color\"], s=0.4, marker=\"s\")\n",
    "        axs[i].title.set_text(f\"{depth} m\")\n",
    "    fig.suptitle(year)\n",
    "    plt.savefig(f\"dbscan_depth_{year}.png\")\n",
    "    plt.show()"
   ]
  },
  {
   "cell_type": "code",
   "execution_count": null,
   "id": "71efb073-367e-4707-b9cd-2abb189a90ed",
   "metadata": {},
   "outputs": [],
   "source": [
    "def drop_clusters_with_few_samples(df, thresh=None, ylog=False):\n",
    "    \"\"\" If thresh is None, the Kneedle algorithm will be used to determine a treshold. \"\"\"\n",
    "    temp = df.copy()\n",
    "    \n",
    "    # count number of grid cells in each cluster\n",
    "    df_nums = temp.groupby(\"label\").count()[\"color\"].reset_index().rename(columns={\"color\": \"count\"})\n",
    "    df_nums = df_nums.sort_values(\"count\").reset_index(drop=True)\n",
    "    df_nums[\"label\"] = df_nums[\"label\"].astype(str)\n",
    "\n",
    "    # compute threshold to cut off clusters\n",
    "    if not thresh:\n",
    "        cluster_label, thresh = compute_elbow_threshold(df_nums, y_name=\"count\", y_label=\"Number of samples\")\n",
    "    else:\n",
    "        # plot number of cells per cluster\n",
    "        plt.plot(df_nums[\"label\"], df_nums[\"count\"])\n",
    "        if ylog: \n",
    "            plt.yscale(\"log\")\n",
    "        plt.ylabel(\"Number of samples\")\n",
    "        plt.xlabel(\"Cluster\")\n",
    "        plt.xticks([])\n",
    "        plt.axhline(thresh, color=\"orange\")\n",
    "        plt.yticks(list(plt.yticks()[0]) + [thresh])\n",
    "        plt.show()\n",
    "\n",
    "    # set all labels to -1 (noise) where num samples is too small\n",
    "    labels_to_keep = df_nums[df_nums[\"count\"] >= thresh].label\n",
    "    print(\"Remaining number of clusters:\" + str(len(labels_to_keep)))\n",
    "    temp = temp[temp[\"label\"].astype(str).isin(labels_to_keep)]\n",
    "\n",
    "    # plotting\n",
    "    # coupled_label_plot(temp)\n",
    "\n",
    "    return temp"
   ]
  },
  {
   "cell_type": "code",
   "execution_count": null,
   "id": "22f6b6cd-2677-4a6e-907c-22ed708553ea",
   "metadata": {},
   "outputs": [],
   "source": [
    "def compute_elbow_threshold(df_label_counts, y_name=\"count\", y_label=\"Number of samples\"):\n",
    "    x = df_label_counts.index\n",
    "    y = df_label_counts[y_name]\n",
    "    kn = KneeLocator(x=x, y=y, curve='convex', direction='increasing')\n",
    "    knee = kn.knee\n",
    "\n",
    "    fig = plt.figure()\n",
    "    plt.xlabel('Clusters')\n",
    "    plt.ylabel(y_label)\n",
    "    plt.plot(x, y, \"-\")  # \"'x-')\n",
    "    plt.vlines(knee, plt.ylim()[0], plt.ylim()[1], linestyles='dashed', color=\"orange\")\n",
    "    plt.hlines(df_label_counts.iloc[knee][y_name], plt.xlim()[0], plt.xlim()[1], linestyles='dashed', color=\"orange\")\n",
    "    # plt.xticks([knee], labels=[df_label_counts.iloc[knee][\"labels\"]])\n",
    "    plt.xticks([knee])\n",
    "    plt.yticks(list(plt.yticks()[0]) + [df_label_counts.iloc[knee][y_name]])\n",
    "    plt.show()\n",
    "\n",
    "    return df_label_counts.iloc[knee][\"label\"], df_label_counts.iloc[knee][y_name]"
   ]
  },
  {
   "cell_type": "code",
   "execution_count": null,
   "id": "529dd918-0b5b-4c11-b684-8549d32fbce8",
   "metadata": {},
   "outputs": [],
   "source": [
    "df_dropped = drop_clusters_with_few_samples(df_in, thresh=60, ylog=True)"
   ]
  },
  {
   "cell_type": "code",
   "execution_count": null,
   "id": "0670cc7f-17fa-46ec-a1cf-4acf6857a707",
   "metadata": {},
   "outputs": [],
   "source": [
    "coupled_label_plot(df_dropped[df_dropped[\"label\"] != -1])"
   ]
  },
  {
   "cell_type": "code",
   "execution_count": null,
   "id": "33debbc9-2347-423e-8b66-e6a773f5b403",
   "metadata": {
    "scrolled": true
   },
   "outputs": [],
   "source": []
  },
  {
   "cell_type": "code",
   "execution_count": null,
   "id": "d68d2da2-2963-47e8-86bf-4aadc3a959c8",
   "metadata": {},
   "outputs": [],
   "source": []
  },
  {
   "cell_type": "markdown",
   "id": "313656be-4e72-4238-a1a0-14f0849dcb5d",
   "metadata": {},
   "source": [
    "# Cluster with time dimension on time dataset"
   ]
  },
  {
   "cell_type": "code",
   "execution_count": null,
   "id": "039f6175-abc9-4697-9b03-039cf08769d8",
   "metadata": {},
   "outputs": [],
   "source": [
    "# load data\n",
    "df_in = pd.read_csv(\"../ocean_clusters_over_time/df_knn_3x20.csv\")"
   ]
  },
  {
   "cell_type": "code",
   "execution_count": null,
   "id": "eb508f1f-33ba-4c57-b13b-9a3c1dd319e0",
   "metadata": {},
   "outputs": [],
   "source": [
    "df_in"
   ]
  },
  {
   "cell_type": "code",
   "execution_count": null,
   "id": "ddf3f032-3e9d-40a0-8186-cd84fa8f84aa",
   "metadata": {},
   "outputs": [],
   "source": [
    "# scale\n",
    "scaler = MinMaxScaler()\n",
    "df_scaled = scaler.fit_transform(df)"
   ]
  },
  {
   "cell_type": "code",
   "execution_count": null,
   "id": "0f3b3a8e-38d8-495a-a6b9-0ff899b77b33",
   "metadata": {},
   "outputs": [],
   "source": [
    "# embed data \n",
    "embedding = umap.UMAP(min_dist=0.0, n_components=3, n_neighbors=10).fit_transform(df_scaled)\n",
    "\n",
    "# visualize embedding\n",
    "fig = plt.figure(figsize=(7, 6))\n",
    "ax = fig.add_subplot(projection='3d')\n",
    "ax.scatter(embedding[:, 0], embedding[:, 1], embedding[:, 2], alpha=0.08, s=2, marker=\".\")\n",
    "plt.xlabel(\"Axis 0\")\n",
    "plt.ylabel(\"Axis 1\")\n",
    "ax.set_zlabel(\"Axis 2\")\n",
    "plt.tight_layout()\n",
    "# plt.savefig(\"output/umap_space.png\")\n",
    "plt.show()"
   ]
  },
  {
   "cell_type": "code",
   "execution_count": null,
   "id": "d23d3076-ff0d-4c47-bfbf-e9e5a5ac0d93",
   "metadata": {},
   "outputs": [],
   "source": []
  },
  {
   "cell_type": "code",
   "execution_count": null,
   "id": "bc8bcc22-fe42-4426-a57a-692c0ae6a3ad",
   "metadata": {},
   "outputs": [],
   "source": []
  },
  {
   "cell_type": "code",
   "execution_count": null,
   "id": "0d447f26-bec1-4b39-b607-e79248838bfc",
   "metadata": {},
   "outputs": [],
   "source": []
  },
  {
   "cell_type": "code",
   "execution_count": null,
   "id": "303215c4-2178-46ed-a797-6c535445689d",
   "metadata": {},
   "outputs": [],
   "source": []
  },
  {
   "cell_type": "markdown",
   "id": "058330ff-df71-4f06-bea6-0a058491ace8",
   "metadata": {},
   "source": [
    "# The other appoach - cluster each epoch"
   ]
  },
  {
   "cell_type": "code",
   "execution_count": null,
   "id": "927796da-84ca-4de3-8e93-57c30393342a",
   "metadata": {},
   "outputs": [],
   "source": [
    "# load data\n",
    "df = pd.read_csv(\"../ocean_clusters_over_time/df_knn_3x20.csv\")"
   ]
  },
  {
   "cell_type": "code",
   "execution_count": null,
   "id": "9715ae61-5b8e-4db8-ae12-22519accce76",
   "metadata": {
    "scrolled": true
   },
   "outputs": [],
   "source": [
    "# find hyperparameters\n",
    "for year in df[\"year\"].unique():\n",
    "    temp = df[df[\"year\"] == year]\n",
    "\n",
    "    # scale\n",
    "    scaler = MinMaxScaler()\n",
    "    temp_scaled = scaler.fit_transform(temp)\n",
    "\n",
    "    # embed\n",
    "    embedding = umap.UMAP(min_dist=0.0, n_components=3, n_neighbors=20).fit_transform(temp_scaled)\n",
    "\n",
    "    # cluster\n",
    "    dbscan_scores = compute_scores(df=embedding, algorithm=\"dbscan\", iterations=1, prefix=year)"
   ]
  },
  {
   "cell_type": "code",
   "execution_count": null,
   "id": "d6de3d34-8f6c-4051-9cbc-ec229f1f636f",
   "metadata": {},
   "outputs": [],
   "source": [
    "import glob\n",
    "res = []\n",
    "year=\"1960.0\"  # \"1980.0\" \"2000.0\"\n",
    "for f in glob.glob(f\"output/scores_dbscan_{year}_i*_eps*_min_samples*.csv\"):\n",
    "    a = pd.read_csv(f)\n",
    "    a = a.drop(\"Unnamed: 0\", axis=1)\n",
    "    res.append(a)\n",
    "\n",
    "res = pd.concat(res)"
   ]
  },
  {
   "cell_type": "code",
   "execution_count": null,
   "id": "dfc70199-0e00-40f0-b7f7-ec92addb4610",
   "metadata": {},
   "outputs": [],
   "source": [
    "res"
   ]
  },
  {
   "cell_type": "code",
   "execution_count": null,
   "id": "431061e2-61c2-4bbe-89b0-bb27755ec5c2",
   "metadata": {},
   "outputs": [],
   "source": [
    "# plot scores\n",
    "res[\"eps\"] = res[\"eps\"].astype(float)\n",
    "res[\"iteration\"] = res[\"iteration\"].astype(float)\n",
    "res[\"min_samples\"] = res[\"min_samples\"].astype(float)\n",
    "res_i = res.groupby([\"eps\", \"min_samples\"]).mean().drop(\"iteration\", axis=1).reset_index()\n",
    "\n",
    "plot_heatmap(res_i, x=\"min_samples\", y=\"eps\", color=\"nclusters\", title=\"Sweep of DBSCAN (on original data)\")\n",
    "plt.show()\n",
    "\n",
    "plot_coefficients(res, x=\"eps\", algorithm=\"dbscan\", save=False)\n",
    "plot_coefficients(res, x=\"min_samples\", algorithm=\"dbscan\", save=False)\n",
    "\n",
    "#for e, m in [(0.110345, 2), (0.1, 3), (0.5, 5), (0.12413793103448277, 6)]:\n",
    "#dlabels = df[\"label\"] # compute_clusters(df_scaled, df_in, algorithm=\"dbscan\", hyps={\"eps\": e, \"min_samples\": m}, spec=\"original_data\")\n",
    "#print(f\"Number of clusters: {len(np.unique(dlabels))}\")\n",
    "# coupled_label_plot(df) # , dlabels, embedding)"
   ]
  },
  {
   "cell_type": "code",
   "execution_count": null,
   "id": "78cf1c6e-113e-4883-bebd-3fc595f5b9f4",
   "metadata": {},
   "outputs": [],
   "source": []
  },
  {
   "cell_type": "code",
   "execution_count": null,
   "id": "22cfdc4e-e937-446d-910e-32b2c73b09e3",
   "metadata": {},
   "outputs": [],
   "source": []
  },
  {
   "cell_type": "code",
   "execution_count": null,
   "id": "79776ecf-5955-4fd2-9347-64780334b755",
   "metadata": {},
   "outputs": [],
   "source": [
    "import os\n",
    "os.getcwd()"
   ]
  },
  {
   "cell_type": "markdown",
   "id": "3690c292-bb50-4877-af6a-eda704fd4de5",
   "metadata": {},
   "source": [
    "# Use SOMPY"
   ]
  },
  {
   "cell_type": "code",
   "execution_count": 19,
   "id": "5180c958-1a17-4e66-9eba-ade27b8c8a9e",
   "metadata": {},
   "outputs": [
    {
     "ename": "NameError",
     "evalue": "name 'embedding' is not defined",
     "output_type": "error",
     "traceback": [
      "\u001b[0;31m---------------------------------------------------------------------------\u001b[0m",
      "\u001b[0;31mNameError\u001b[0m                                 Traceback (most recent call last)",
      "Cell \u001b[0;32mIn[19], line 3\u001b[0m\n\u001b[1;32m      1\u001b[0m \u001b[38;5;66;03m# determine mapsize\u001b[39;00m\n\u001b[1;32m      2\u001b[0m pca \u001b[38;5;241m=\u001b[39m PCA() \n\u001b[0;32m----> 3\u001b[0m pca_out \u001b[38;5;241m=\u001b[39mpca\u001b[38;5;241m.\u001b[39mfit_transform(\u001b[43membedding\u001b[49m)\n\u001b[1;32m      4\u001b[0m eigenvalue1 \u001b[38;5;241m=\u001b[39m pca\u001b[38;5;241m.\u001b[39mexplained_variance_[\u001b[38;5;241m0\u001b[39m]\n\u001b[1;32m      5\u001b[0m eigenvalue2 \u001b[38;5;241m=\u001b[39m pca\u001b[38;5;241m.\u001b[39mexplained_variance_[\u001b[38;5;241m1\u001b[39m]\n",
      "\u001b[0;31mNameError\u001b[0m: name 'embedding' is not defined"
     ]
    }
   ],
   "source": [
    "# determine mapsize\n",
    "pca = PCA() \n",
    "pca_out =pca.fit_transform(embedding)\n",
    "eigenvalue1 = pca.explained_variance_[0]\n",
    "eigenvalue2 = pca.explained_variance_[1]\n",
    "max_number_clusters = 500\n",
    "\n",
    "ax1 = int(np.ceil(max_number_clusters*(eigenvalue1/(eigenvalue1+eigenvalue2))))\n",
    "ax2 = int(np.ceil(max_number_clusters*(eigenvalue2/(eigenvalue1+eigenvalue2))))\n",
    "\n",
    "print(pca.explained_variance_)"
   ]
  },
  {
   "cell_type": "code",
   "execution_count": 20,
   "id": "ff8f5e41-f7bf-468b-a16c-53ac0637baea",
   "metadata": {},
   "outputs": [],
   "source": [
    "import sompy"
   ]
  },
  {
   "cell_type": "code",
   "execution_count": 21,
   "id": "a97d9c73-2522-477e-aeee-ca51557e2703",
   "metadata": {
    "scrolled": true
   },
   "outputs": [
    {
     "ename": "NameError",
     "evalue": "name 'ax1' is not defined",
     "output_type": "error",
     "traceback": [
      "\u001b[0;31m---------------------------------------------------------------------------\u001b[0m",
      "\u001b[0;31mNameError\u001b[0m                                 Traceback (most recent call last)",
      "Cell \u001b[0;32mIn[21], line 6\u001b[0m\n\u001b[1;32m      3\u001b[0m st \u001b[38;5;241m=\u001b[39m time\u001b[38;5;241m.\u001b[39mtime()\n\u001b[1;32m      5\u001b[0m \u001b[38;5;66;03m# sompy\u001b[39;00m\n\u001b[0;32m----> 6\u001b[0m mapsize \u001b[38;5;241m=\u001b[39m [\u001b[43max1\u001b[49m, ax2]  \u001b[38;5;66;03m# related to proportion of eigenvectors --> take first 2 eigenvalues from PCA\u001b[39;00m\n\u001b[1;32m      8\u001b[0m som \u001b[38;5;241m=\u001b[39m sompy\u001b[38;5;241m.\u001b[39mSOMFactory\u001b[38;5;241m.\u001b[39mbuild(embedding,\n\u001b[1;32m      9\u001b[0m                              mapsize\u001b[38;5;241m=\u001b[39mmapsize, \n\u001b[1;32m     10\u001b[0m                              mask\u001b[38;5;241m=\u001b[39m\u001b[38;5;28;01mNone\u001b[39;00m, \n\u001b[0;32m   (...)\u001b[0m\n\u001b[1;32m     16\u001b[0m                              training\u001b[38;5;241m=\u001b[39m\u001b[38;5;124m'\u001b[39m\u001b[38;5;124mbatch\u001b[39m\u001b[38;5;124m'\u001b[39m, \n\u001b[1;32m     17\u001b[0m                              name\u001b[38;5;241m=\u001b[39m\u001b[38;5;124m'\u001b[39m\u001b[38;5;124msompy\u001b[39m\u001b[38;5;124m'\u001b[39m)\n\u001b[1;32m     19\u001b[0m som\u001b[38;5;241m.\u001b[39mtrain(n_job\u001b[38;5;241m=\u001b[39m\u001b[38;5;241m4\u001b[39m, verbose\u001b[38;5;241m=\u001b[39m\u001b[38;5;124m'\u001b[39m\u001b[38;5;124minfo\u001b[39m\u001b[38;5;124m'\u001b[39m, \n\u001b[1;32m     20\u001b[0m           train_rough_len\u001b[38;5;241m=\u001b[39m\u001b[38;5;241m60\u001b[39m,  \n\u001b[1;32m     21\u001b[0m           train_rough_radiusin\u001b[38;5;241m=\u001b[39m\u001b[38;5;241m5\u001b[39m, \u001b[38;5;66;03m# (initial radius, how conctracted the map is initially)\u001b[39;00m\n\u001b[0;32m   (...)\u001b[0m\n\u001b[1;32m     24\u001b[0m           train_finetune_radiusin\u001b[38;5;241m=\u001b[39m\u001b[38;5;241m1.3\u001b[39m,\n\u001b[1;32m     25\u001b[0m           train_finetune_radiusfin\u001b[38;5;241m=\u001b[39m\u001b[38;5;241m0.1\u001b[39m,)  \u001b[38;5;66;03m# verbose='debug' will print more, and verbose=None wont print anything\u001b[39;00m\n",
      "\u001b[0;31mNameError\u001b[0m: name 'ax1' is not defined"
     ]
    }
   ],
   "source": [
    "import time\n",
    "\n",
    "st = time.time()\n",
    "\n",
    "# sompy\n",
    "mapsize = [ax1, ax2]  # related to proportion of eigenvectors --> take first 2 eigenvalues from PCA\n",
    "\n",
    "som = sompy.SOMFactory.build(embedding,\n",
    "                             mapsize=mapsize, \n",
    "                             mask=None, \n",
    "                             mapshape='planar', \n",
    "                             lattice='hexa', \n",
    "                             normalization=None, \n",
    "                             initialization='pca', \n",
    "                             neighborhood='gaussian', \n",
    "                             training='batch', \n",
    "                             name='sompy')\n",
    "\n",
    "som.train(n_job=4, verbose='info', \n",
    "          train_rough_len=60,  \n",
    "          train_rough_radiusin=5, # (initial radius, how conctracted the map is initially)\n",
    "          train_rough_radiusfin=1,\n",
    "          train_finetune_len=80, # 300+ (epochs)\n",
    "          train_finetune_radiusin=1.3,\n",
    "          train_finetune_radiusfin=0.1,)  # verbose='debug' will print more, and verbose=None wont print anything\n",
    "\n",
    "print(time.time() - st)"
   ]
  },
  {
   "cell_type": "code",
   "execution_count": 17,
   "id": "6ad121af-e4fc-484f-bf78-cd0d51c1610c",
   "metadata": {},
   "outputs": [],
   "source": [
    "import pickle"
   ]
  },
  {
   "cell_type": "code",
   "execution_count": 18,
   "id": "647424c8-6457-4a0f-923e-ca2d7c91cdc3",
   "metadata": {},
   "outputs": [
    {
     "ename": "NameError",
     "evalue": "name 'som' is not defined",
     "output_type": "error",
     "traceback": [
      "\u001b[0;31m---------------------------------------------------------------------------\u001b[0m",
      "\u001b[0;31mNameError\u001b[0m                                 Traceback (most recent call last)",
      "Cell \u001b[0;32mIn[18], line 1\u001b[0m\n\u001b[0;32m----> 1\u001b[0m pickle\u001b[38;5;241m.\u001b[39mdump(\u001b[43msom\u001b[49m, \u001b[38;5;28mopen\u001b[39m(\u001b[38;5;124m\"\u001b[39m\u001b[38;5;124msom1.pickle\u001b[39m\u001b[38;5;124m\"\u001b[39m, \u001b[38;5;124m'\u001b[39m\u001b[38;5;124mwb\u001b[39m\u001b[38;5;124m'\u001b[39m))\n",
      "\u001b[0;31mNameError\u001b[0m: name 'som' is not defined"
     ]
    }
   ],
   "source": [
    "pickle.dump(som, open(\"som1.pickle\", 'wb'))"
   ]
  },
  {
   "cell_type": "code",
   "execution_count": null,
   "id": "3712c7c8-42e2-4df6-b7b0-fdc7d8f7ef26",
   "metadata": {},
   "outputs": [],
   "source": []
  },
  {
   "cell_type": "code",
   "execution_count": null,
   "id": "f10931cf-333d-488c-b82c-02ea604e96b7",
   "metadata": {},
   "outputs": [],
   "source": []
  },
  {
   "cell_type": "code",
   "execution_count": 13,
   "id": "d9d24b25-ad8e-4687-a2cc-d5e38ed78d7e",
   "metadata": {},
   "outputs": [
    {
     "ename": "UnpicklingError",
     "evalue": "pickle data was truncated",
     "output_type": "error",
     "traceback": [
      "\u001b[0;31m---------------------------------------------------------------------------\u001b[0m",
      "\u001b[0;31mUnpicklingError\u001b[0m                           Traceback (most recent call last)",
      "Cell \u001b[0;32mIn[13], line 2\u001b[0m\n\u001b[1;32m      1\u001b[0m \u001b[38;5;28;01mimport\u001b[39;00m \u001b[38;5;21;01mpickle\u001b[39;00m\n\u001b[0;32m----> 2\u001b[0m loaded_model \u001b[38;5;241m=\u001b[39m \u001b[43mpickle\u001b[49m\u001b[38;5;241;43m.\u001b[39;49m\u001b[43mload\u001b[49m\u001b[43m(\u001b[49m\u001b[38;5;28;43mopen\u001b[39;49m\u001b[43m(\u001b[49m\u001b[38;5;124;43m\"\u001b[39;49m\u001b[38;5;124;43msom.pickle\u001b[39;49m\u001b[38;5;124;43m\"\u001b[39;49m\u001b[43m,\u001b[49m\u001b[43m \u001b[49m\u001b[38;5;124;43m'\u001b[39;49m\u001b[38;5;124;43mrb\u001b[39;49m\u001b[38;5;124;43m'\u001b[39;49m\u001b[43m)\u001b[49m\u001b[43m)\u001b[49m\n",
      "\u001b[0;31mUnpicklingError\u001b[0m: pickle data was truncated"
     ]
    }
   ],
   "source": [
    "import pickle\n",
    "loaded_model = pickle.load(open(\"som.pickle\", 'rb'))"
   ]
  },
  {
   "cell_type": "code",
   "execution_count": null,
   "id": "665b8b90-86bd-498d-b8fe-2827ea7fba6f",
   "metadata": {},
   "outputs": [],
   "source": [
    "loaded_model"
   ]
  },
  {
   "cell_type": "code",
   "execution_count": null,
   "id": "31fc84c9-b8bd-476c-8500-19e8f2333880",
   "metadata": {},
   "outputs": [],
   "source": [
    "df_in[\"e0\"] = embedding[:, 0]\n",
    "df_in[\"e1\"] = embedding[:, 1]\n",
    "df_in[\"e2\"] = embedding[:, 2]"
   ]
  },
  {
   "cell_type": "code",
   "execution_count": null,
   "id": "542791c4-7003-47de-ad52-498057537117",
   "metadata": {},
   "outputs": [],
   "source": [
    "bmus = som.find_bmu(df[[\"e0\", \"e1\", \"e2\"]])#, njb=1, nth=1)#, metric='euclidean')\n",
    "df_in[\"bmu\"] = bmus[0,:]"
   ]
  },
  {
   "cell_type": "code",
   "execution_count": 15,
   "id": "38f54983-5157-4e78-beee-ab0a4a3c62ea",
   "metadata": {},
   "outputs": [
    {
     "data": {
      "text/html": [
       "<div>\n",
       "<style scoped>\n",
       "    .dataframe tbody tr th:only-of-type {\n",
       "        vertical-align: middle;\n",
       "    }\n",
       "\n",
       "    .dataframe tbody tr th {\n",
       "        vertical-align: top;\n",
       "    }\n",
       "\n",
       "    .dataframe thead th {\n",
       "        text-align: right;\n",
       "    }\n",
       "</style>\n",
       "<table border=\"1\" class=\"dataframe\">\n",
       "  <thead>\n",
       "    <tr style=\"text-align: right;\">\n",
       "      <th></th>\n",
       "      <th>P_SILICATE</th>\n",
       "      <th>P_OXYGEN</th>\n",
       "      <th>P_PHOSPHATE</th>\n",
       "      <th>P_NITRATE</th>\n",
       "      <th>P_SALINITY</th>\n",
       "      <th>P_TEMPERATURE</th>\n",
       "    </tr>\n",
       "  </thead>\n",
       "  <tbody>\n",
       "    <tr>\n",
       "      <th>0</th>\n",
       "      <td>37.734630</td>\n",
       "      <td>189.421603</td>\n",
       "      <td>0.520744</td>\n",
       "      <td>1.694278</td>\n",
       "      <td>27.156216</td>\n",
       "      <td>27.598412</td>\n",
       "    </tr>\n",
       "    <tr>\n",
       "      <th>1</th>\n",
       "      <td>155.681818</td>\n",
       "      <td>170.857143</td>\n",
       "      <td>1.096636</td>\n",
       "      <td>11.572727</td>\n",
       "      <td>19.818916</td>\n",
       "      <td>28.460455</td>\n",
       "    </tr>\n",
       "    <tr>\n",
       "      <th>2</th>\n",
       "      <td>3.738993</td>\n",
       "      <td>196.708500</td>\n",
       "      <td>0.213867</td>\n",
       "      <td>2.310345</td>\n",
       "      <td>35.760767</td>\n",
       "      <td>25.204867</td>\n",
       "    </tr>\n",
       "    <tr>\n",
       "      <th>3</th>\n",
       "      <td>32.404681</td>\n",
       "      <td>190.928270</td>\n",
       "      <td>0.307107</td>\n",
       "      <td>1.475086</td>\n",
       "      <td>28.574002</td>\n",
       "      <td>27.608948</td>\n",
       "    </tr>\n",
       "    <tr>\n",
       "      <th>4</th>\n",
       "      <td>159.371429</td>\n",
       "      <td>207.685714</td>\n",
       "      <td>1.765000</td>\n",
       "      <td>13.100000</td>\n",
       "      <td>0.049500</td>\n",
       "      <td>28.522286</td>\n",
       "    </tr>\n",
       "    <tr>\n",
       "      <th>...</th>\n",
       "      <td>...</td>\n",
       "      <td>...</td>\n",
       "      <td>...</td>\n",
       "      <td>...</td>\n",
       "      <td>...</td>\n",
       "      <td>...</td>\n",
       "    </tr>\n",
       "    <tr>\n",
       "      <th>131491</th>\n",
       "      <td>5.306492</td>\n",
       "      <td>295.376667</td>\n",
       "      <td>0.803165</td>\n",
       "      <td>11.100429</td>\n",
       "      <td>34.985432</td>\n",
       "      <td>6.153753</td>\n",
       "    </tr>\n",
       "    <tr>\n",
       "      <th>131492</th>\n",
       "      <td>3.284641</td>\n",
       "      <td>286.350024</td>\n",
       "      <td>0.548613</td>\n",
       "      <td>7.339059</td>\n",
       "      <td>34.666895</td>\n",
       "      <td>6.433794</td>\n",
       "    </tr>\n",
       "    <tr>\n",
       "      <th>131493</th>\n",
       "      <td>3.161150</td>\n",
       "      <td>324.256027</td>\n",
       "      <td>0.443702</td>\n",
       "      <td>1.023000</td>\n",
       "      <td>34.184855</td>\n",
       "      <td>5.560835</td>\n",
       "    </tr>\n",
       "    <tr>\n",
       "      <th>131494</th>\n",
       "      <td>2.005582</td>\n",
       "      <td>296.046403</td>\n",
       "      <td>0.299126</td>\n",
       "      <td>2.429742</td>\n",
       "      <td>34.009173</td>\n",
       "      <td>5.158774</td>\n",
       "    </tr>\n",
       "    <tr>\n",
       "      <th>131495</th>\n",
       "      <td>1.499562</td>\n",
       "      <td>296.337500</td>\n",
       "      <td>0.301250</td>\n",
       "      <td>2.600000</td>\n",
       "      <td>33.861167</td>\n",
       "      <td>7.281000</td>\n",
       "    </tr>\n",
       "  </tbody>\n",
       "</table>\n",
       "<p>131496 rows × 6 columns</p>\n",
       "</div>"
      ],
      "text/plain": [
       "        P_SILICATE    P_OXYGEN  P_PHOSPHATE  P_NITRATE  P_SALINITY  \\\n",
       "0        37.734630  189.421603     0.520744   1.694278   27.156216   \n",
       "1       155.681818  170.857143     1.096636  11.572727   19.818916   \n",
       "2         3.738993  196.708500     0.213867   2.310345   35.760767   \n",
       "3        32.404681  190.928270     0.307107   1.475086   28.574002   \n",
       "4       159.371429  207.685714     1.765000  13.100000    0.049500   \n",
       "...            ...         ...          ...        ...         ...   \n",
       "131491    5.306492  295.376667     0.803165  11.100429   34.985432   \n",
       "131492    3.284641  286.350024     0.548613   7.339059   34.666895   \n",
       "131493    3.161150  324.256027     0.443702   1.023000   34.184855   \n",
       "131494    2.005582  296.046403     0.299126   2.429742   34.009173   \n",
       "131495    1.499562  296.337500     0.301250   2.600000   33.861167   \n",
       "\n",
       "        P_TEMPERATURE  \n",
       "0           27.598412  \n",
       "1           28.460455  \n",
       "2           25.204867  \n",
       "3           27.608948  \n",
       "4           28.522286  \n",
       "...               ...  \n",
       "131491       6.153753  \n",
       "131492       6.433794  \n",
       "131493       5.560835  \n",
       "131494       5.158774  \n",
       "131495       7.281000  \n",
       "\n",
       "[131496 rows x 6 columns]"
      ]
     },
     "execution_count": 15,
     "metadata": {},
     "output_type": "execute_result"
    }
   ],
   "source": [
    "df"
   ]
  },
  {
   "cell_type": "code",
   "execution_count": null,
   "id": "ac26d90f-98cf-4561-aebb-3d9160069426",
   "metadata": {},
   "outputs": [],
   "source": []
  }
 ],
 "metadata": {
  "kernelspec": {
   "display_name": "Python 3 (ipykernel)",
   "language": "python",
   "name": "python3"
  },
  "language_info": {
   "codemirror_mode": {
    "name": "ipython",
    "version": 3
   },
   "file_extension": ".py",
   "mimetype": "text/x-python",
   "name": "python",
   "nbconvert_exporter": "python",
   "pygments_lexer": "ipython3",
   "version": "3.10.12"
  }
 },
 "nbformat": 4,
 "nbformat_minor": 5
}
